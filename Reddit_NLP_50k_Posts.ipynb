{
 "cells": [
  {
   "cell_type": "code",
   "execution_count": 1,
   "metadata": {},
   "outputs": [
    {
     "name": "stderr",
     "output_type": "stream",
     "text": [
      "C:\\Users\\aidan\\Anaconda3\\envs\\DSI-6\\lib\\site-packages\\sklearn\\ensemble\\weight_boosting.py:29: DeprecationWarning: numpy.core.umath_tests is an internal NumPy module and should not be imported. It will be removed in a future NumPy release.\n",
      "  from numpy.core.umath_tests import inner1d\n"
     ]
    }
   ],
   "source": [
    "import nltk\n",
    "import pandas as pd\n",
    "import numpy as np\n",
    "from nltk.stem import WordNetLemmatizer\n",
    "lemmatizer = WordNetLemmatizer()\n",
    "from nltk.tokenize import RegexpTokenizer\n",
    "from sklearn.model_selection import train_test_split, cross_val_score, GridSearchCV\n",
    "import nltk\n",
    "from nltk.corpus import stopwords\n",
    "from sklearn.feature_extraction.text import CountVectorizer, TfidfVectorizer\n",
    "from sklearn.linear_model import LogisticRegression\n",
    "from sklearn.ensemble import RandomForestClassifier, ExtraTreesClassifier\n",
    "import matplotlib.pyplot as plt\n",
    "import seaborn as sns"
   ]
  },
  {
   "cell_type": "code",
   "execution_count": 2,
   "metadata": {},
   "outputs": [],
   "source": [
    "all_posts = pd.read_csv('./all_posts_scraped_clean_50')"
   ]
  },
  {
   "cell_type": "code",
   "execution_count": 3,
   "metadata": {},
   "outputs": [],
   "source": [
    "all_posts.drop('Unnamed: 0', axis=1, inplace=True)"
   ]
  },
  {
   "cell_type": "code",
   "execution_count": 4,
   "metadata": {},
   "outputs": [
    {
     "data": {
      "text/html": [
       "<div>\n",
       "<style scoped>\n",
       "    .dataframe tbody tr th:only-of-type {\n",
       "        vertical-align: middle;\n",
       "    }\n",
       "\n",
       "    .dataframe tbody tr th {\n",
       "        vertical-align: top;\n",
       "    }\n",
       "\n",
       "    .dataframe thead th {\n",
       "        text-align: right;\n",
       "    }\n",
       "</style>\n",
       "<table border=\"1\" class=\"dataframe\">\n",
       "  <thead>\n",
       "    <tr style=\"text-align: right;\">\n",
       "      <th></th>\n",
       "      <th>author</th>\n",
       "      <th>body</th>\n",
       "      <th>id</th>\n",
       "      <th>subreddit</th>\n",
       "      <th>title</th>\n",
       "    </tr>\n",
       "  </thead>\n",
       "  <tbody>\n",
       "    <tr>\n",
       "      <th>0</th>\n",
       "      <td>kinspace</td>\n",
       "      <td>I'm curious as to what draws in the average pe...</td>\n",
       "      <td>abcly6</td>\n",
       "      <td>AskMen</td>\n",
       "      <td>For anyone that's paid for pics/premium Snapch...</td>\n",
       "    </tr>\n",
       "    <tr>\n",
       "      <th>1</th>\n",
       "      <td>RisenFlames</td>\n",
       "      <td>Just for context this is my first time using a...</td>\n",
       "      <td>abcmsv</td>\n",
       "      <td>AskMen</td>\n",
       "      <td>Why do men ghost then message again after awhile?</td>\n",
       "    </tr>\n",
       "    <tr>\n",
       "      <th>2</th>\n",
       "      <td>MediocrePenisNumber6</td>\n",
       "      <td>I'm not trying to offend anyone I just want to...</td>\n",
       "      <td>abcrua</td>\n",
       "      <td>AskMen</td>\n",
       "      <td>Guys who where the school pretty boy and guys ...</td>\n",
       "    </tr>\n",
       "    <tr>\n",
       "      <th>3</th>\n",
       "      <td>Greatpocketlintking</td>\n",
       "      <td>GF found out I use mine on my whole body and s...</td>\n",
       "      <td>abcxuj</td>\n",
       "      <td>AskMen</td>\n",
       "      <td>Men of reddit who use a loofah in the shower; ...</td>\n",
       "    </tr>\n",
       "    <tr>\n",
       "      <th>4</th>\n",
       "      <td>Cheetobear6891</td>\n",
       "      <td>Or is it time to go joe rogan on this shit?</td>\n",
       "      <td>abd0u0</td>\n",
       "      <td>AskMen</td>\n",
       "      <td>What has been your experience with hair loss t...</td>\n",
       "    </tr>\n",
       "  </tbody>\n",
       "</table>\n",
       "</div>"
      ],
      "text/plain": [
       "                 author                                               body  \\\n",
       "0              kinspace  I'm curious as to what draws in the average pe...   \n",
       "1           RisenFlames  Just for context this is my first time using a...   \n",
       "2  MediocrePenisNumber6  I'm not trying to offend anyone I just want to...   \n",
       "3   Greatpocketlintking  GF found out I use mine on my whole body and s...   \n",
       "4        Cheetobear6891        Or is it time to go joe rogan on this shit?   \n",
       "\n",
       "       id subreddit                                              title  \n",
       "0  abcly6    AskMen  For anyone that's paid for pics/premium Snapch...  \n",
       "1  abcmsv    AskMen  Why do men ghost then message again after awhile?  \n",
       "2  abcrua    AskMen  Guys who where the school pretty boy and guys ...  \n",
       "3  abcxuj    AskMen  Men of reddit who use a loofah in the shower; ...  \n",
       "4  abd0u0    AskMen  What has been your experience with hair loss t...  "
      ]
     },
     "execution_count": 4,
     "metadata": {},
     "output_type": "execute_result"
    }
   ],
   "source": [
    "all_posts.head()"
   ]
  },
  {
   "cell_type": "code",
   "execution_count": 5,
   "metadata": {},
   "outputs": [],
   "source": [
    "all_posts['target'] = all_posts['subreddit'].map(lambda x: 1 if x == 'AskWomen' else 0)"
   ]
  },
  {
   "cell_type": "code",
   "execution_count": 6,
   "metadata": {},
   "outputs": [],
   "source": [
    "tokenizer = RegexpTokenizer(r'\\b\\S+\\b|\\$[\\d\\.]+')"
   ]
  },
  {
   "cell_type": "code",
   "execution_count": 7,
   "metadata": {},
   "outputs": [],
   "source": [
    "body_words = []\n",
    "body_words_lem = []\n",
    "for i in all_posts['body']:\n",
    "    post_tokens = tokenizer.tokenize(i.lower())\n",
    "    post_lem = [lemmatizer.lemmatize(token) for token in post_tokens]    \n",
    "    post_tokens = ' '.join(post_tokens)\n",
    "    post_lem = ' '.join(post_lem)\n",
    "    body_words.append(post_tokens)\n",
    "    body_words_lem.append(post_lem)"
   ]
  },
  {
   "cell_type": "code",
   "execution_count": 8,
   "metadata": {},
   "outputs": [],
   "source": [
    "all_posts['body_words'] = body_words\n",
    "all_posts['body_words_lem'] = body_words_lem"
   ]
  },
  {
   "cell_type": "code",
   "execution_count": 9,
   "metadata": {},
   "outputs": [
    {
     "data": {
      "text/html": [
       "<div>\n",
       "<style scoped>\n",
       "    .dataframe tbody tr th:only-of-type {\n",
       "        vertical-align: middle;\n",
       "    }\n",
       "\n",
       "    .dataframe tbody tr th {\n",
       "        vertical-align: top;\n",
       "    }\n",
       "\n",
       "    .dataframe thead th {\n",
       "        text-align: right;\n",
       "    }\n",
       "</style>\n",
       "<table border=\"1\" class=\"dataframe\">\n",
       "  <thead>\n",
       "    <tr style=\"text-align: right;\">\n",
       "      <th></th>\n",
       "      <th>author</th>\n",
       "      <th>body</th>\n",
       "      <th>id</th>\n",
       "      <th>subreddit</th>\n",
       "      <th>title</th>\n",
       "      <th>target</th>\n",
       "      <th>body_words</th>\n",
       "      <th>body_words_lem</th>\n",
       "    </tr>\n",
       "  </thead>\n",
       "  <tbody>\n",
       "    <tr>\n",
       "      <th>50017</th>\n",
       "      <td>lina101176</td>\n",
       "      <td>mine: I once leaked onto my friend's sheets du...</td>\n",
       "      <td>4xw4t1</td>\n",
       "      <td>AskWomen</td>\n",
       "      <td>Ladies with periods, what's your most embarras...</td>\n",
       "      <td>1</td>\n",
       "      <td>mine i once leaked onto my friend's sheets dur...</td>\n",
       "      <td>mine i once leaked onto my friend's sheet duri...</td>\n",
       "    </tr>\n",
       "    <tr>\n",
       "      <th>50018</th>\n",
       "      <td>prototagonist</td>\n",
       "      <td>Background: Although less today than in the pa...</td>\n",
       "      <td>4xwepc</td>\n",
       "      <td>AskWomen</td>\n",
       "      <td>Other than listening, what's a good way a man ...</td>\n",
       "      <td>1</td>\n",
       "      <td>background although less today than in the pas...</td>\n",
       "      <td>background although le today than in the past ...</td>\n",
       "    </tr>\n",
       "    <tr>\n",
       "      <th>50019</th>\n",
       "      <td>MissFegg</td>\n",
       "      <td>I'm thinking of going alone to Miami in a mont...</td>\n",
       "      <td>4xwevr</td>\n",
       "      <td>AskWomen</td>\n",
       "      <td>How's Miami for women traveling alone?</td>\n",
       "      <td>1</td>\n",
       "      <td>i'm thinking of going alone to miami in a mont...</td>\n",
       "      <td>i'm thinking of going alone to miami in a mont...</td>\n",
       "    </tr>\n",
       "    <tr>\n",
       "      <th>50020</th>\n",
       "      <td>nacho-average-food</td>\n",
       "      <td>I'm a teen guy, and was recently having a conv...</td>\n",
       "      <td>4xwgin</td>\n",
       "      <td>AskWomen</td>\n",
       "      <td>How can men be less passively threatening?</td>\n",
       "      <td>1</td>\n",
       "      <td>i'm a teen guy and was recently having a conve...</td>\n",
       "      <td>i'm a teen guy and wa recently having a conver...</td>\n",
       "    </tr>\n",
       "    <tr>\n",
       "      <th>50021</th>\n",
       "      <td>itsadooozy</td>\n",
       "      <td>Just made a double batch of gnocchi and they'r...</td>\n",
       "      <td>4xwk4j</td>\n",
       "      <td>AskWomen</td>\n",
       "      <td>What was your greatest creation in the kitchen...</td>\n",
       "      <td>1</td>\n",
       "      <td>just made a double batch of gnocchi and they'r...</td>\n",
       "      <td>just made a double batch of gnocchi and they'r...</td>\n",
       "    </tr>\n",
       "  </tbody>\n",
       "</table>\n",
       "</div>"
      ],
      "text/plain": [
       "                   author                                               body  \\\n",
       "50017          lina101176  mine: I once leaked onto my friend's sheets du...   \n",
       "50018       prototagonist  Background: Although less today than in the pa...   \n",
       "50019            MissFegg  I'm thinking of going alone to Miami in a mont...   \n",
       "50020  nacho-average-food  I'm a teen guy, and was recently having a conv...   \n",
       "50021          itsadooozy  Just made a double batch of gnocchi and they'r...   \n",
       "\n",
       "           id subreddit                                              title  \\\n",
       "50017  4xw4t1  AskWomen  Ladies with periods, what's your most embarras...   \n",
       "50018  4xwepc  AskWomen  Other than listening, what's a good way a man ...   \n",
       "50019  4xwevr  AskWomen             How's Miami for women traveling alone?   \n",
       "50020  4xwgin  AskWomen         How can men be less passively threatening?   \n",
       "50021  4xwk4j  AskWomen  What was your greatest creation in the kitchen...   \n",
       "\n",
       "       target                                         body_words  \\\n",
       "50017       1  mine i once leaked onto my friend's sheets dur...   \n",
       "50018       1  background although less today than in the pas...   \n",
       "50019       1  i'm thinking of going alone to miami in a mont...   \n",
       "50020       1  i'm a teen guy and was recently having a conve...   \n",
       "50021       1  just made a double batch of gnocchi and they'r...   \n",
       "\n",
       "                                          body_words_lem  \n",
       "50017  mine i once leaked onto my friend's sheet duri...  \n",
       "50018  background although le today than in the past ...  \n",
       "50019  i'm thinking of going alone to miami in a mont...  \n",
       "50020  i'm a teen guy and wa recently having a conver...  \n",
       "50021  just made a double batch of gnocchi and they'r...  "
      ]
     },
     "execution_count": 9,
     "metadata": {},
     "output_type": "execute_result"
    }
   ],
   "source": [
    "all_posts.tail()"
   ]
  },
  {
   "cell_type": "code",
   "execution_count": 10,
   "metadata": {},
   "outputs": [],
   "source": [
    "title_words = []\n",
    "title_words_lem = []\n",
    "for i in all_posts['title']:\n",
    "    post_tokens = tokenizer.tokenize(i.lower())\n",
    "    post_lem = [lemmatizer.lemmatize(token) for token in post_tokens]\n",
    "    post_tokens = ' '.join(post_tokens)\n",
    "    post_lem = ' '.join(post_lem)\n",
    "    title_words.append(post_tokens)\n",
    "    title_words_lem.append(post_lem)"
   ]
  },
  {
   "cell_type": "code",
   "execution_count": 11,
   "metadata": {},
   "outputs": [],
   "source": [
    "all_posts['title_words'] = title_words\n",
    "all_posts['title_words_lem'] = title_words_lem"
   ]
  },
  {
   "cell_type": "code",
   "execution_count": 12,
   "metadata": {},
   "outputs": [
    {
     "data": {
      "text/html": [
       "<div>\n",
       "<style scoped>\n",
       "    .dataframe tbody tr th:only-of-type {\n",
       "        vertical-align: middle;\n",
       "    }\n",
       "\n",
       "    .dataframe tbody tr th {\n",
       "        vertical-align: top;\n",
       "    }\n",
       "\n",
       "    .dataframe thead th {\n",
       "        text-align: right;\n",
       "    }\n",
       "</style>\n",
       "<table border=\"1\" class=\"dataframe\">\n",
       "  <thead>\n",
       "    <tr style=\"text-align: right;\">\n",
       "      <th></th>\n",
       "      <th>author</th>\n",
       "      <th>body</th>\n",
       "      <th>id</th>\n",
       "      <th>subreddit</th>\n",
       "      <th>title</th>\n",
       "      <th>target</th>\n",
       "      <th>body_words</th>\n",
       "      <th>body_words_lem</th>\n",
       "      <th>title_words</th>\n",
       "      <th>title_words_lem</th>\n",
       "    </tr>\n",
       "  </thead>\n",
       "  <tbody>\n",
       "    <tr>\n",
       "      <th>50017</th>\n",
       "      <td>lina101176</td>\n",
       "      <td>mine: I once leaked onto my friend's sheets du...</td>\n",
       "      <td>4xw4t1</td>\n",
       "      <td>AskWomen</td>\n",
       "      <td>Ladies with periods, what's your most embarras...</td>\n",
       "      <td>1</td>\n",
       "      <td>mine i once leaked onto my friend's sheets dur...</td>\n",
       "      <td>mine i once leaked onto my friend's sheet duri...</td>\n",
       "      <td>ladies with periods what's your most embarrass...</td>\n",
       "      <td>lady with period what's your most embarrassing...</td>\n",
       "    </tr>\n",
       "    <tr>\n",
       "      <th>50018</th>\n",
       "      <td>prototagonist</td>\n",
       "      <td>Background: Although less today than in the pa...</td>\n",
       "      <td>4xwepc</td>\n",
       "      <td>AskWomen</td>\n",
       "      <td>Other than listening, what's a good way a man ...</td>\n",
       "      <td>1</td>\n",
       "      <td>background although less today than in the pas...</td>\n",
       "      <td>background although le today than in the past ...</td>\n",
       "      <td>other than listening what's a good way a man c...</td>\n",
       "      <td>other than listening what's a good way a man c...</td>\n",
       "    </tr>\n",
       "    <tr>\n",
       "      <th>50019</th>\n",
       "      <td>MissFegg</td>\n",
       "      <td>I'm thinking of going alone to Miami in a mont...</td>\n",
       "      <td>4xwevr</td>\n",
       "      <td>AskWomen</td>\n",
       "      <td>How's Miami for women traveling alone?</td>\n",
       "      <td>1</td>\n",
       "      <td>i'm thinking of going alone to miami in a mont...</td>\n",
       "      <td>i'm thinking of going alone to miami in a mont...</td>\n",
       "      <td>how's miami for women traveling alone</td>\n",
       "      <td>how's miami for woman traveling alone</td>\n",
       "    </tr>\n",
       "    <tr>\n",
       "      <th>50020</th>\n",
       "      <td>nacho-average-food</td>\n",
       "      <td>I'm a teen guy, and was recently having a conv...</td>\n",
       "      <td>4xwgin</td>\n",
       "      <td>AskWomen</td>\n",
       "      <td>How can men be less passively threatening?</td>\n",
       "      <td>1</td>\n",
       "      <td>i'm a teen guy and was recently having a conve...</td>\n",
       "      <td>i'm a teen guy and wa recently having a conver...</td>\n",
       "      <td>how can men be less passively threatening</td>\n",
       "      <td>how can men be le passively threatening</td>\n",
       "    </tr>\n",
       "    <tr>\n",
       "      <th>50021</th>\n",
       "      <td>itsadooozy</td>\n",
       "      <td>Just made a double batch of gnocchi and they'r...</td>\n",
       "      <td>4xwk4j</td>\n",
       "      <td>AskWomen</td>\n",
       "      <td>What was your greatest creation in the kitchen...</td>\n",
       "      <td>1</td>\n",
       "      <td>just made a double batch of gnocchi and they'r...</td>\n",
       "      <td>just made a double batch of gnocchi and they'r...</td>\n",
       "      <td>what was your greatest creation in the kitchen...</td>\n",
       "      <td>what wa your greatest creation in the kitchen ...</td>\n",
       "    </tr>\n",
       "  </tbody>\n",
       "</table>\n",
       "</div>"
      ],
      "text/plain": [
       "                   author                                               body  \\\n",
       "50017          lina101176  mine: I once leaked onto my friend's sheets du...   \n",
       "50018       prototagonist  Background: Although less today than in the pa...   \n",
       "50019            MissFegg  I'm thinking of going alone to Miami in a mont...   \n",
       "50020  nacho-average-food  I'm a teen guy, and was recently having a conv...   \n",
       "50021          itsadooozy  Just made a double batch of gnocchi and they'r...   \n",
       "\n",
       "           id subreddit                                              title  \\\n",
       "50017  4xw4t1  AskWomen  Ladies with periods, what's your most embarras...   \n",
       "50018  4xwepc  AskWomen  Other than listening, what's a good way a man ...   \n",
       "50019  4xwevr  AskWomen             How's Miami for women traveling alone?   \n",
       "50020  4xwgin  AskWomen         How can men be less passively threatening?   \n",
       "50021  4xwk4j  AskWomen  What was your greatest creation in the kitchen...   \n",
       "\n",
       "       target                                         body_words  \\\n",
       "50017       1  mine i once leaked onto my friend's sheets dur...   \n",
       "50018       1  background although less today than in the pas...   \n",
       "50019       1  i'm thinking of going alone to miami in a mont...   \n",
       "50020       1  i'm a teen guy and was recently having a conve...   \n",
       "50021       1  just made a double batch of gnocchi and they'r...   \n",
       "\n",
       "                                          body_words_lem  \\\n",
       "50017  mine i once leaked onto my friend's sheet duri...   \n",
       "50018  background although le today than in the past ...   \n",
       "50019  i'm thinking of going alone to miami in a mont...   \n",
       "50020  i'm a teen guy and wa recently having a conver...   \n",
       "50021  just made a double batch of gnocchi and they'r...   \n",
       "\n",
       "                                             title_words  \\\n",
       "50017  ladies with periods what's your most embarrass...   \n",
       "50018  other than listening what's a good way a man c...   \n",
       "50019              how's miami for women traveling alone   \n",
       "50020          how can men be less passively threatening   \n",
       "50021  what was your greatest creation in the kitchen...   \n",
       "\n",
       "                                         title_words_lem  \n",
       "50017  lady with period what's your most embarrassing...  \n",
       "50018  other than listening what's a good way a man c...  \n",
       "50019              how's miami for woman traveling alone  \n",
       "50020            how can men be le passively threatening  \n",
       "50021  what wa your greatest creation in the kitchen ...  "
      ]
     },
     "execution_count": 12,
     "metadata": {},
     "output_type": "execute_result"
    }
   ],
   "source": [
    "all_posts.tail()"
   ]
  },
  {
   "cell_type": "code",
   "execution_count": 13,
   "metadata": {},
   "outputs": [],
   "source": [
    "all_posts['joint_words'] = all_posts['body_words'] + ' ' + all_posts['title_words']\n",
    "all_posts['joint_words_lem'] = all_posts['body_words_lem'] + ' ' + all_posts['title_words_lem']"
   ]
  },
  {
   "cell_type": "code",
   "execution_count": 14,
   "metadata": {},
   "outputs": [],
   "source": [
    "X_train, X_test, y_train, y_test = train_test_split(all_posts.drop('target', axis=1), all_posts['target'], stratify=all_posts['target'], random_state=42)"
   ]
  },
  {
   "cell_type": "code",
   "execution_count": 15,
   "metadata": {},
   "outputs": [
    {
     "data": {
      "text/plain": [
       "author             12506\n",
       "body               12506\n",
       "id                 12506\n",
       "subreddit          12506\n",
       "title              12506\n",
       "body_words         12506\n",
       "body_words_lem     12506\n",
       "title_words        12506\n",
       "title_words_lem    12506\n",
       "joint_words        12506\n",
       "joint_words_lem    12506\n",
       "dtype: int64"
      ]
     },
     "execution_count": 15,
     "metadata": {},
     "output_type": "execute_result"
    }
   ],
   "source": [
    "X_test.count()"
   ]
  },
  {
   "cell_type": "code",
   "execution_count": 16,
   "metadata": {},
   "outputs": [
    {
     "data": {
      "text/plain": [
       "0    6256\n",
       "1    6250\n",
       "Name: target, dtype: int64"
      ]
     },
     "execution_count": 16,
     "metadata": {},
     "output_type": "execute_result"
    }
   ],
   "source": [
    "y_test.value_counts()"
   ]
  },
  {
   "cell_type": "code",
   "execution_count": 17,
   "metadata": {},
   "outputs": [
    {
     "data": {
      "text/plain": [
       "author             object\n",
       "body               object\n",
       "id                 object\n",
       "subreddit          object\n",
       "title              object\n",
       "body_words         object\n",
       "body_words_lem     object\n",
       "title_words        object\n",
       "title_words_lem    object\n",
       "joint_words        object\n",
       "joint_words_lem    object\n",
       "dtype: object"
      ]
     },
     "execution_count": 17,
     "metadata": {},
     "output_type": "execute_result"
    }
   ],
   "source": [
    "X_train.dtypes"
   ]
  },
  {
   "cell_type": "markdown",
   "metadata": {},
   "source": [
    "## Count Vectorizer / Bag of Words"
   ]
  },
  {
   "cell_type": "code",
   "execution_count": 18,
   "metadata": {},
   "outputs": [],
   "source": [
    "vectorizer = CountVectorizer(stop_words='english')"
   ]
  },
  {
   "cell_type": "markdown",
   "metadata": {},
   "source": [
    "### Logistic Regression"
   ]
  },
  {
   "cell_type": "code",
   "execution_count": 19,
   "metadata": {},
   "outputs": [],
   "source": [
    "lr = LogisticRegression()"
   ]
  },
  {
   "cell_type": "markdown",
   "metadata": {},
   "source": [
    "#### Tokenized"
   ]
  },
  {
   "cell_type": "code",
   "execution_count": 20,
   "metadata": {},
   "outputs": [
    {
     "data": {
      "text/plain": [
       "0.8844226463375626"
      ]
     },
     "execution_count": 20,
     "metadata": {},
     "output_type": "execute_result"
    }
   ],
   "source": [
    "X_train_features = vectorizer.fit_transform(X_train['joint_words'])\n",
    "X_train_features = X_train_features.toarray()\n",
    "\n",
    "lr.fit(X_train_features, y_train)\n",
    "\n",
    "lr.score(X_train_features, y_train)"
   ]
  },
  {
   "cell_type": "code",
   "execution_count": 21,
   "metadata": {},
   "outputs": [
    {
     "data": {
      "text/plain": [
       "0.7246508060244103"
      ]
     },
     "execution_count": 21,
     "metadata": {},
     "output_type": "execute_result"
    }
   ],
   "source": [
    "cross_val_score(lr, X_train_features, y_train).mean()"
   ]
  },
  {
   "cell_type": "code",
   "execution_count": 22,
   "metadata": {},
   "outputs": [
    {
     "data": {
      "text/plain": [
       "0.7351671197825044"
      ]
     },
     "execution_count": 22,
     "metadata": {},
     "output_type": "execute_result"
    }
   ],
   "source": [
    "X_test_features = vectorizer.transform(X_test['joint_words'])\n",
    "X_test_features = X_test_features.toarray()\n",
    "\n",
    "lr.score(X_test_features, y_test)\n"
   ]
  },
  {
   "cell_type": "markdown",
   "metadata": {},
   "source": [
    "#### Lemmatized"
   ]
  },
  {
   "cell_type": "code",
   "execution_count": 23,
   "metadata": {},
   "outputs": [
    {
     "data": {
      "text/plain": [
       "0.8712282759356008"
      ]
     },
     "execution_count": 23,
     "metadata": {},
     "output_type": "execute_result"
    }
   ],
   "source": [
    "X_train_features = vectorizer.fit_transform(X_train['joint_words_lem'])\n",
    "X_train_features = X_train_features.toarray()\n",
    "\n",
    "lr.fit(X_train_features, y_train)\n",
    "\n",
    "lr.score(X_train_features, y_train)"
   ]
  },
  {
   "cell_type": "code",
   "execution_count": 24,
   "metadata": {},
   "outputs": [
    {
     "data": {
      "text/plain": [
       "0.7171339598922413"
      ]
     },
     "execution_count": 24,
     "metadata": {},
     "output_type": "execute_result"
    }
   ],
   "source": [
    "cross_val_score(lr, X_train_features, y_train).mean()"
   ]
  },
  {
   "cell_type": "code",
   "execution_count": 25,
   "metadata": {},
   "outputs": [
    {
     "data": {
      "text/plain": [
       "0.7179753718215257"
      ]
     },
     "execution_count": 25,
     "metadata": {},
     "output_type": "execute_result"
    }
   ],
   "source": [
    "X_test_features = vectorizer.transform(X_test['joint_words_lem'])\n",
    "X_test_features = X_test_features.toarray()\n",
    "\n",
    "lr.score(X_test_features, y_test)"
   ]
  },
  {
   "cell_type": "markdown",
   "metadata": {},
   "source": [
    "### Random Forrest"
   ]
  },
  {
   "cell_type": "markdown",
   "metadata": {},
   "source": [
    "#### Tokenized"
   ]
  },
  {
   "cell_type": "code",
   "execution_count": 22,
   "metadata": {},
   "outputs": [],
   "source": [
    "rf = RandomForestClassifier()"
   ]
  },
  {
   "cell_type": "code",
   "execution_count": 27,
   "metadata": {},
   "outputs": [
    {
     "data": {
      "text/plain": [
       "0.9869122507730035"
      ]
     },
     "execution_count": 27,
     "metadata": {},
     "output_type": "execute_result"
    }
   ],
   "source": [
    "X_train_features = vectorizer.fit_transform(X_train['joint_words'])\n",
    "X_train_features = X_train_features.toarray()\n",
    "\n",
    "rf.fit(X_train_features, y_train)\n",
    "\n",
    "rf.score(X_train_features, y_train)"
   ]
  },
  {
   "cell_type": "code",
   "execution_count": 28,
   "metadata": {},
   "outputs": [
    {
     "data": {
      "text/plain": [
       "0.6955698215409715"
      ]
     },
     "execution_count": 28,
     "metadata": {},
     "output_type": "execute_result"
    }
   ],
   "source": [
    "cross_val_score(rf, X_train_features, y_train).mean()"
   ]
  },
  {
   "cell_type": "code",
   "execution_count": 29,
   "metadata": {},
   "outputs": [
    {
     "data": {
      "text/plain": [
       "0.7106988645450184"
      ]
     },
     "execution_count": 29,
     "metadata": {},
     "output_type": "execute_result"
    }
   ],
   "source": [
    "X_test_features = vectorizer.transform(X_test['joint_words'])\n",
    "X_test_features = X_test_features.toarray()\n",
    "\n",
    "rf.score(X_test_features, y_test)"
   ]
  },
  {
   "cell_type": "markdown",
   "metadata": {},
   "source": [
    "#### Lemmatized"
   ]
  },
  {
   "cell_type": "code",
   "execution_count": 30,
   "metadata": {},
   "outputs": [
    {
     "data": {
      "text/plain": [
       "0.9875253225290542"
      ]
     },
     "execution_count": 30,
     "metadata": {},
     "output_type": "execute_result"
    }
   ],
   "source": [
    "X_train_features = vectorizer.fit_transform(X_train['joint_words_lem'])\n",
    "X_train_features = X_train_features.toarray()\n",
    "\n",
    "rf.fit(X_train_features, y_train)\n",
    "\n",
    "rf.score(X_train_features, y_train)"
   ]
  },
  {
   "cell_type": "code",
   "execution_count": 31,
   "metadata": {},
   "outputs": [
    {
     "data": {
      "text/plain": [
       "0.6885328474292889"
      ]
     },
     "execution_count": 31,
     "metadata": {},
     "output_type": "execute_result"
    }
   ],
   "source": [
    "cross_val_score(rf, X_train_features, y_train).mean()"
   ]
  },
  {
   "cell_type": "code",
   "execution_count": 32,
   "metadata": {},
   "outputs": [
    {
     "data": {
      "text/plain": [
       "0.6927874620182313"
      ]
     },
     "execution_count": 32,
     "metadata": {},
     "output_type": "execute_result"
    }
   ],
   "source": [
    "X_test_features = vectorizer.transform(X_test['joint_words_lem'])\n",
    "X_test_features = X_test_features.toarray()\n",
    "\n",
    "rf.score(X_test_features, y_test)"
   ]
  },
  {
   "cell_type": "markdown",
   "metadata": {},
   "source": [
    "## TFIDF"
   ]
  },
  {
   "cell_type": "code",
   "execution_count": 20,
   "metadata": {},
   "outputs": [],
   "source": [
    "vectorizer = TfidfVectorizer(stop_words='english')"
   ]
  },
  {
   "cell_type": "markdown",
   "metadata": {},
   "source": [
    "### Logistic Regression"
   ]
  },
  {
   "cell_type": "markdown",
   "metadata": {},
   "source": [
    "#### Tokenized"
   ]
  },
  {
   "cell_type": "code",
   "execution_count": 34,
   "metadata": {},
   "outputs": [
    {
     "data": {
      "text/plain": [
       "0.8209563919394391"
      ]
     },
     "execution_count": 34,
     "metadata": {},
     "output_type": "execute_result"
    }
   ],
   "source": [
    "X_train_features = vectorizer.fit_transform(X_train['joint_words'])\n",
    "X_train_features = X_train_features.toarray()\n",
    "\n",
    "lr.fit(X_train_features, y_train)\n",
    "\n",
    "lr.score(X_train_features, y_train)"
   ]
  },
  {
   "cell_type": "code",
   "execution_count": 35,
   "metadata": {},
   "outputs": [
    {
     "data": {
      "text/plain": [
       "0.7503197835957041"
      ]
     },
     "execution_count": 35,
     "metadata": {},
     "output_type": "execute_result"
    }
   ],
   "source": [
    "cross_val_score(lr, X_train_features, y_train).mean()"
   ]
  },
  {
   "cell_type": "code",
   "execution_count": 36,
   "metadata": {},
   "outputs": [
    {
     "data": {
      "text/plain": [
       "0.7595554134015673"
      ]
     },
     "execution_count": 36,
     "metadata": {},
     "output_type": "execute_result"
    }
   ],
   "source": [
    "X_test_features = vectorizer.transform(X_test['joint_words'])\n",
    "X_test_features = X_test_features.toarray()\n",
    "\n",
    "lr.score(X_test_features, y_test)"
   ]
  },
  {
   "cell_type": "markdown",
   "metadata": {},
   "source": [
    "#### Lemmatized"
   ]
  },
  {
   "cell_type": "code",
   "execution_count": 37,
   "metadata": {},
   "outputs": [
    {
     "data": {
      "text/plain": [
       "0.8085616803497174"
      ]
     },
     "execution_count": 37,
     "metadata": {},
     "output_type": "execute_result"
    }
   ],
   "source": [
    "X_train_features = vectorizer.fit_transform(X_train['joint_words_lem'])\n",
    "X_train_features = X_train_features.toarray()\n",
    "\n",
    "lr.fit(X_train_features, y_train)\n",
    "\n",
    "lr.score(X_train_features, y_train)"
   ]
  },
  {
   "cell_type": "code",
   "execution_count": 38,
   "metadata": {},
   "outputs": [
    {
     "data": {
      "text/plain": [
       "0.7402173967024951"
      ]
     },
     "execution_count": 38,
     "metadata": {},
     "output_type": "execute_result"
    }
   ],
   "source": [
    "cross_val_score(lr, X_train_features, y_train).mean()"
   ]
  },
  {
   "cell_type": "code",
   "execution_count": 39,
   "metadata": {},
   "outputs": [
    {
     "data": {
      "text/plain": [
       "0.7474012474012474"
      ]
     },
     "execution_count": 39,
     "metadata": {},
     "output_type": "execute_result"
    }
   ],
   "source": [
    "X_test_features = vectorizer.transform(X_test['joint_words_lem'])\n",
    "X_test_features = X_test_features.toarray()\n",
    "\n",
    "lr.score(X_test_features, y_test)"
   ]
  },
  {
   "cell_type": "markdown",
   "metadata": {},
   "source": [
    "### Random Forrest"
   ]
  },
  {
   "cell_type": "markdown",
   "metadata": {},
   "source": [
    "#### Tokenized"
   ]
  },
  {
   "cell_type": "code",
   "execution_count": 40,
   "metadata": {},
   "outputs": [
    {
     "data": {
      "text/plain": [
       "0.9867256637168141"
      ]
     },
     "execution_count": 40,
     "metadata": {},
     "output_type": "execute_result"
    }
   ],
   "source": [
    "X_train_features = vectorizer.fit_transform(X_train['joint_words'])\n",
    "X_train_features = X_train_features.toarray()\n",
    "\n",
    "rf.fit(X_train_features, y_train)\n",
    "\n",
    "rf.score(X_train_features, y_train)"
   ]
  },
  {
   "cell_type": "code",
   "execution_count": 41,
   "metadata": {},
   "outputs": [
    {
     "data": {
      "text/plain": [
       "0.7042061154108644"
      ]
     },
     "execution_count": 41,
     "metadata": {},
     "output_type": "execute_result"
    }
   ],
   "source": [
    "cross_val_score(rf, X_train_features, y_train).mean()"
   ]
  },
  {
   "cell_type": "code",
   "execution_count": 42,
   "metadata": {},
   "outputs": [
    {
     "data": {
      "text/plain": [
       "0.7049416280185511"
      ]
     },
     "execution_count": 42,
     "metadata": {},
     "output_type": "execute_result"
    }
   ],
   "source": [
    "X_test_features = vectorizer.transform(X_test['joint_words'])\n",
    "X_test_features = X_test_features.toarray()\n",
    "\n",
    "rf.score(X_test_features, y_test)"
   ]
  },
  {
   "cell_type": "markdown",
   "metadata": {},
   "source": [
    "#### Lemmatized"
   ]
  },
  {
   "cell_type": "code",
   "execution_count": 23,
   "metadata": {},
   "outputs": [
    {
     "data": {
      "text/plain": [
       "0.9865923872481075"
      ]
     },
     "execution_count": 23,
     "metadata": {},
     "output_type": "execute_result"
    }
   ],
   "source": [
    "X_train_features = vectorizer.fit_transform(X_train['joint_words_lem'])\n",
    "X_train_features = X_train_features.toarray()\n",
    "\n",
    "rf.fit(X_train_features, y_train)\n",
    "\n",
    "rf.score(X_train_features, y_train)"
   ]
  },
  {
   "cell_type": "code",
   "execution_count": 44,
   "metadata": {},
   "outputs": [
    {
     "data": {
      "text/plain": [
       "0.6836017573353409"
      ]
     },
     "execution_count": 44,
     "metadata": {},
     "output_type": "execute_result"
    }
   ],
   "source": [
    "cross_val_score(rf, X_train_features, y_train).mean()"
   ]
  },
  {
   "cell_type": "code",
   "execution_count": 45,
   "metadata": {},
   "outputs": [
    {
     "data": {
      "text/plain": [
       "0.6909483447944986"
      ]
     },
     "execution_count": 45,
     "metadata": {},
     "output_type": "execute_result"
    }
   ],
   "source": [
    "X_test_features = vectorizer.transform(X_test['joint_words_lem'])\n",
    "X_test_features = X_test_features.toarray()\n",
    "\n",
    "rf.score(X_test_features, y_test)"
   ]
  },
  {
   "cell_type": "markdown",
   "metadata": {},
   "source": [
    "The TFIDF vectorizer looks to be much more accurate and actually seems to perform better without lemmatizing the words.  "
   ]
  },
  {
   "cell_type": "markdown",
   "metadata": {},
   "source": [
    "## Grid Searching for Hyperparameters"
   ]
  },
  {
   "cell_type": "code",
   "execution_count": 18,
   "metadata": {},
   "outputs": [],
   "source": [
    "vectorizer = TfidfVectorizer(stop_words='english')\n",
    "\n",
    "X_train_features = vectorizer.fit_transform(X_train['joint_words'])\n",
    "X_train_features = X_train_features.toarray()"
   ]
  },
  {
   "cell_type": "code",
   "execution_count": 25,
   "metadata": {},
   "outputs": [],
   "source": [
    "lr = LogisticRegression()"
   ]
  },
  {
   "cell_type": "code",
   "execution_count": 26,
   "metadata": {},
   "outputs": [],
   "source": [
    "log_reg_params = {\n",
    "    'penalty' : ['l1', 'l2'],\n",
    "    'C' : [0.2, 0.4, 0.6, 0.8, 1]\n",
    "}\n",
    "\n",
    "grid = GridSearchCV(\n",
    "    LogisticRegression(),\n",
    "    log_reg_params,\n",
    "    cv = 5,\n",
    "    verbose = 2,\n",
    "    return_train_score = True)"
   ]
  },
  {
   "cell_type": "code",
   "execution_count": 27,
   "metadata": {},
   "outputs": [
    {
     "name": "stdout",
     "output_type": "stream",
     "text": [
      "Fitting 5 folds for each of 10 candidates, totalling 50 fits\n",
      "[CV] C=0.2, penalty=l1 ...............................................\n",
      "[CV] ................................ C=0.2, penalty=l1, total= 1.0min\n",
      "[CV] C=0.2, penalty=l1 ...............................................\n"
     ]
    },
    {
     "name": "stderr",
     "output_type": "stream",
     "text": [
      "[Parallel(n_jobs=1)]: Done   1 out of   1 | elapsed:  1.1min remaining:    0.0s\n"
     ]
    },
    {
     "name": "stdout",
     "output_type": "stream",
     "text": [
      "[CV] ................................ C=0.2, penalty=l1, total= 1.1min\n",
      "[CV] C=0.2, penalty=l1 ...............................................\n",
      "[CV] ................................ C=0.2, penalty=l1, total= 3.6min\n",
      "[CV] C=0.2, penalty=l1 ...............................................\n",
      "[CV] ................................ C=0.2, penalty=l1, total= 1.1min\n",
      "[CV] C=0.2, penalty=l1 ...............................................\n",
      "[CV] ................................ C=0.2, penalty=l1, total= 1.2min\n",
      "[CV] C=0.2, penalty=l2 ...............................................\n",
      "[CV] ................................ C=0.2, penalty=l2, total= 1.3min\n",
      "[CV] C=0.2, penalty=l2 ...............................................\n",
      "[CV] ................................ C=0.2, penalty=l2, total= 1.1min\n",
      "[CV] C=0.2, penalty=l2 ...............................................\n",
      "[CV] ................................ C=0.2, penalty=l2, total=  50.9s\n",
      "[CV] C=0.2, penalty=l2 ...............................................\n",
      "[CV] ................................ C=0.2, penalty=l2, total=  58.1s\n",
      "[CV] C=0.2, penalty=l2 ...............................................\n",
      "[CV] ................................ C=0.2, penalty=l2, total= 1.1min\n",
      "[CV] C=0.4, penalty=l1 ...............................................\n",
      "[CV] ................................ C=0.4, penalty=l1, total= 1.2min\n",
      "[CV] C=0.4, penalty=l1 ...............................................\n",
      "[CV] ................................ C=0.4, penalty=l1, total= 1.1min\n",
      "[CV] C=0.4, penalty=l1 ...............................................\n",
      "[CV] ................................ C=0.4, penalty=l1, total= 1.1min\n",
      "[CV] C=0.4, penalty=l1 ...............................................\n",
      "[CV] ................................ C=0.4, penalty=l1, total= 1.3min\n",
      "[CV] C=0.4, penalty=l1 ...............................................\n",
      "[CV] ................................ C=0.4, penalty=l1, total= 1.3min\n",
      "[CV] C=0.4, penalty=l2 ...............................................\n",
      "[CV] ................................ C=0.4, penalty=l2, total= 1.2min\n",
      "[CV] C=0.4, penalty=l2 ...............................................\n",
      "[CV] ................................ C=0.4, penalty=l2, total= 1.0min\n",
      "[CV] C=0.4, penalty=l2 ...............................................\n",
      "[CV] ................................ C=0.4, penalty=l2, total= 1.1min\n",
      "[CV] C=0.4, penalty=l2 ...............................................\n",
      "[CV] ................................ C=0.4, penalty=l2, total= 1.1min\n",
      "[CV] C=0.4, penalty=l2 ...............................................\n",
      "[CV] ................................ C=0.4, penalty=l2, total= 1.1min\n",
      "[CV] C=0.6, penalty=l1 ...............................................\n",
      "[CV] ................................ C=0.6, penalty=l1, total=  55.8s\n",
      "[CV] C=0.6, penalty=l1 ...............................................\n",
      "[CV] ................................ C=0.6, penalty=l1, total= 1.1min\n",
      "[CV] C=0.6, penalty=l1 ...............................................\n",
      "[CV] ................................ C=0.6, penalty=l1, total=  59.9s\n",
      "[CV] C=0.6, penalty=l1 ...............................................\n",
      "[CV] ................................ C=0.6, penalty=l1, total= 1.2min\n",
      "[CV] C=0.6, penalty=l1 ...............................................\n",
      "[CV] ................................ C=0.6, penalty=l1, total= 1.2min\n",
      "[CV] C=0.6, penalty=l2 ...............................................\n",
      "[CV] ................................ C=0.6, penalty=l2, total= 1.1min\n",
      "[CV] C=0.6, penalty=l2 ...............................................\n",
      "[CV] ................................ C=0.6, penalty=l2, total= 1.1min\n",
      "[CV] C=0.6, penalty=l2 ...............................................\n",
      "[CV] ................................ C=0.6, penalty=l2, total= 1.2min\n",
      "[CV] C=0.6, penalty=l2 ...............................................\n",
      "[CV] ................................ C=0.6, penalty=l2, total= 1.0min\n",
      "[CV] C=0.6, penalty=l2 ...............................................\n",
      "[CV] ................................ C=0.6, penalty=l2, total= 1.1min\n",
      "[CV] C=0.8, penalty=l1 ...............................................\n",
      "[CV] ................................ C=0.8, penalty=l1, total= 1.1min\n",
      "[CV] C=0.8, penalty=l1 ...............................................\n",
      "[CV] ................................ C=0.8, penalty=l1, total= 1.2min\n",
      "[CV] C=0.8, penalty=l1 ...............................................\n",
      "[CV] ................................ C=0.8, penalty=l1, total= 1.1min\n",
      "[CV] C=0.8, penalty=l1 ...............................................\n",
      "[CV] ................................ C=0.8, penalty=l1, total= 1.1min\n",
      "[CV] C=0.8, penalty=l1 ...............................................\n",
      "[CV] ................................ C=0.8, penalty=l1, total=  59.9s\n",
      "[CV] C=0.8, penalty=l2 ...............................................\n",
      "[CV] ................................ C=0.8, penalty=l2, total= 1.1min\n",
      "[CV] C=0.8, penalty=l2 ...............................................\n",
      "[CV] ................................ C=0.8, penalty=l2, total= 1.1min\n",
      "[CV] C=0.8, penalty=l2 ...............................................\n",
      "[CV] ................................ C=0.8, penalty=l2, total= 1.1min\n",
      "[CV] C=0.8, penalty=l2 ...............................................\n",
      "[CV] ................................ C=0.8, penalty=l2, total= 1.1min\n",
      "[CV] C=0.8, penalty=l2 ...............................................\n",
      "[CV] ................................ C=0.8, penalty=l2, total= 1.1min\n",
      "[CV] C=1, penalty=l1 .................................................\n",
      "[CV] .................................. C=1, penalty=l1, total= 1.1min\n",
      "[CV] C=1, penalty=l1 .................................................\n",
      "[CV] .................................. C=1, penalty=l1, total= 1.2min\n",
      "[CV] C=1, penalty=l1 .................................................\n",
      "[CV] .................................. C=1, penalty=l1, total= 1.2min\n",
      "[CV] C=1, penalty=l1 .................................................\n",
      "[CV] .................................. C=1, penalty=l1, total= 1.0min\n",
      "[CV] C=1, penalty=l1 .................................................\n",
      "[CV] .................................. C=1, penalty=l1, total= 1.1min\n",
      "[CV] C=1, penalty=l2 .................................................\n",
      "[CV] .................................. C=1, penalty=l2, total= 1.1min\n",
      "[CV] C=1, penalty=l2 .................................................\n",
      "[CV] .................................. C=1, penalty=l2, total= 1.0min\n",
      "[CV] C=1, penalty=l2 .................................................\n",
      "[CV] .................................. C=1, penalty=l2, total= 1.1min\n",
      "[CV] C=1, penalty=l2 .................................................\n",
      "[CV] .................................. C=1, penalty=l2, total= 1.1min\n",
      "[CV] C=1, penalty=l2 .................................................\n",
      "[CV] .................................. C=1, penalty=l2, total= 1.1min\n"
     ]
    },
    {
     "name": "stderr",
     "output_type": "stream",
     "text": [
      "[Parallel(n_jobs=1)]: Done  50 out of  50 | elapsed: 60.6min finished\n"
     ]
    },
    {
     "data": {
      "text/plain": [
       "GridSearchCV(cv=5, error_score='raise',\n",
       "       estimator=LogisticRegression(C=1.0, class_weight=None, dual=False, fit_intercept=True,\n",
       "          intercept_scaling=1, max_iter=100, multi_class='ovr', n_jobs=1,\n",
       "          penalty='l2', random_state=None, solver='liblinear', tol=0.0001,\n",
       "          verbose=0, warm_start=False),\n",
       "       fit_params=None, iid=True, n_jobs=1,\n",
       "       param_grid={'penalty': ['l1', 'l2'], 'C': [0.2, 0.4, 0.6, 0.8, 1]},\n",
       "       pre_dispatch='2*n_jobs', refit=True, return_train_score=True,\n",
       "       scoring=None, verbose=2)"
      ]
     },
     "execution_count": 27,
     "metadata": {},
     "output_type": "execute_result"
    }
   ],
   "source": [
    "grid.fit(X_train_features, y_train)"
   ]
  },
  {
   "cell_type": "code",
   "execution_count": 28,
   "metadata": {},
   "outputs": [
    {
     "data": {
      "text/plain": [
       "LogisticRegression(C=1, class_weight=None, dual=False, fit_intercept=True,\n",
       "          intercept_scaling=1, max_iter=100, multi_class='ovr', n_jobs=1,\n",
       "          penalty='l2', random_state=None, solver='liblinear', tol=0.0001,\n",
       "          verbose=0, warm_start=False)"
      ]
     },
     "execution_count": 28,
     "metadata": {},
     "output_type": "execute_result"
    }
   ],
   "source": [
    "grid.best_estimator_"
   ]
  },
  {
   "cell_type": "code",
   "execution_count": 29,
   "metadata": {},
   "outputs": [
    {
     "data": {
      "text/plain": [
       "{'C': 1, 'penalty': 'l2'}"
      ]
     },
     "execution_count": 29,
     "metadata": {},
     "output_type": "execute_result"
    }
   ],
   "source": [
    "grid.best_params_"
   ]
  },
  {
   "cell_type": "code",
   "execution_count": 30,
   "metadata": {},
   "outputs": [
    {
     "data": {
      "text/plain": [
       "0.7554110246294914"
      ]
     },
     "execution_count": 30,
     "metadata": {},
     "output_type": "execute_result"
    }
   ],
   "source": [
    "grid.best_score_"
   ]
  },
  {
   "cell_type": "code",
   "execution_count": 19,
   "metadata": {},
   "outputs": [],
   "source": [
    "rf = RandomForestClassifier()"
   ]
  },
  {
   "cell_type": "code",
   "execution_count": 20,
   "metadata": {},
   "outputs": [],
   "source": [
    "rf_params = {\n",
    "    'n_estimators' : [10, 25, 50, 100],\n",
    "    'max_depth' : [None, 10, 25, 50, 100],\n",
    "    'max_features' : ['auto', 'sqrt']\n",
    "}\n",
    "\n",
    "grid_rf = GridSearchCV(\n",
    "    RandomForestClassifier(),\n",
    "    rf_params,\n",
    "    cv = 3,\n",
    "    verbose = 2,\n",
    "    return_train_score = True)"
   ]
  },
  {
   "cell_type": "code",
   "execution_count": 21,
   "metadata": {},
   "outputs": [
    {
     "name": "stdout",
     "output_type": "stream",
     "text": [
      "Fitting 3 folds for each of 40 candidates, totalling 120 fits\n",
      "[CV] max_depth=None, max_features=auto, n_estimators=10 ..............\n",
      "[CV]  max_depth=None, max_features=auto, n_estimators=10, total= 2.1min\n",
      "[CV] max_depth=None, max_features=auto, n_estimators=10 ..............\n"
     ]
    },
    {
     "name": "stderr",
     "output_type": "stream",
     "text": [
      "[Parallel(n_jobs=1)]: Done   1 out of   1 | elapsed:  2.2min remaining:    0.0s\n"
     ]
    },
    {
     "name": "stdout",
     "output_type": "stream",
     "text": [
      "[CV]  max_depth=None, max_features=auto, n_estimators=10, total= 2.0min\n",
      "[CV] max_depth=None, max_features=auto, n_estimators=10 ..............\n",
      "[CV]  max_depth=None, max_features=auto, n_estimators=10, total= 1.9min\n",
      "[CV] max_depth=None, max_features=auto, n_estimators=25 ..............\n",
      "[CV]  max_depth=None, max_features=auto, n_estimators=25, total= 3.6min\n",
      "[CV] max_depth=None, max_features=auto, n_estimators=25 ..............\n",
      "[CV]  max_depth=None, max_features=auto, n_estimators=25, total= 3.5min\n",
      "[CV] max_depth=None, max_features=auto, n_estimators=25 ..............\n",
      "[CV]  max_depth=None, max_features=auto, n_estimators=25, total= 3.5min\n",
      "[CV] max_depth=None, max_features=auto, n_estimators=50 ..............\n",
      "[CV]  max_depth=None, max_features=auto, n_estimators=50, total= 6.3min\n",
      "[CV] max_depth=None, max_features=auto, n_estimators=50 ..............\n",
      "[CV]  max_depth=None, max_features=auto, n_estimators=50, total= 6.2min\n",
      "[CV] max_depth=None, max_features=auto, n_estimators=50 ..............\n",
      "[CV]  max_depth=None, max_features=auto, n_estimators=50, total= 6.1min\n",
      "[CV] max_depth=None, max_features=auto, n_estimators=100 .............\n",
      "[CV]  max_depth=None, max_features=auto, n_estimators=100, total=11.6min\n",
      "[CV] max_depth=None, max_features=auto, n_estimators=100 .............\n",
      "[CV]  max_depth=None, max_features=auto, n_estimators=100, total=11.6min\n",
      "[CV] max_depth=None, max_features=auto, n_estimators=100 .............\n",
      "[CV]  max_depth=None, max_features=auto, n_estimators=100, total=11.3min\n",
      "[CV] max_depth=None, max_features=sqrt, n_estimators=10 ..............\n",
      "[CV]  max_depth=None, max_features=sqrt, n_estimators=10, total= 2.0min\n",
      "[CV] max_depth=None, max_features=sqrt, n_estimators=10 ..............\n",
      "[CV]  max_depth=None, max_features=sqrt, n_estimators=10, total= 1.9min\n",
      "[CV] max_depth=None, max_features=sqrt, n_estimators=10 ..............\n",
      "[CV]  max_depth=None, max_features=sqrt, n_estimators=10, total= 1.9min\n",
      "[CV] max_depth=None, max_features=sqrt, n_estimators=25 ..............\n",
      "[CV]  max_depth=None, max_features=sqrt, n_estimators=25, total= 3.4min\n",
      "[CV] max_depth=None, max_features=sqrt, n_estimators=25 ..............\n",
      "[CV]  max_depth=None, max_features=sqrt, n_estimators=25, total= 3.5min\n",
      "[CV] max_depth=None, max_features=sqrt, n_estimators=25 ..............\n",
      "[CV]  max_depth=None, max_features=sqrt, n_estimators=25, total= 3.6min\n",
      "[CV] max_depth=None, max_features=sqrt, n_estimators=50 ..............\n",
      "[CV]  max_depth=None, max_features=sqrt, n_estimators=50, total= 6.3min\n",
      "[CV] max_depth=None, max_features=sqrt, n_estimators=50 ..............\n",
      "[CV]  max_depth=None, max_features=sqrt, n_estimators=50, total= 6.3min\n",
      "[CV] max_depth=None, max_features=sqrt, n_estimators=50 ..............\n",
      "[CV]  max_depth=None, max_features=sqrt, n_estimators=50, total= 6.1min\n",
      "[CV] max_depth=None, max_features=sqrt, n_estimators=100 .............\n",
      "[CV]  max_depth=None, max_features=sqrt, n_estimators=100, total=11.8min\n",
      "[CV] max_depth=None, max_features=sqrt, n_estimators=100 .............\n",
      "[CV]  max_depth=None, max_features=sqrt, n_estimators=100, total=11.6min\n",
      "[CV] max_depth=None, max_features=sqrt, n_estimators=100 .............\n",
      "[CV]  max_depth=None, max_features=sqrt, n_estimators=100, total=11.3min\n",
      "[CV] max_depth=10, max_features=auto, n_estimators=10 ................\n",
      "[CV] . max_depth=10, max_features=auto, n_estimators=10, total= 1.1min\n",
      "[CV] max_depth=10, max_features=auto, n_estimators=10 ................\n",
      "[CV] . max_depth=10, max_features=auto, n_estimators=10, total=  57.6s\n",
      "[CV] max_depth=10, max_features=auto, n_estimators=10 ................\n",
      "[CV] . max_depth=10, max_features=auto, n_estimators=10, total=  52.3s\n",
      "[CV] max_depth=10, max_features=auto, n_estimators=25 ................\n",
      "[CV] . max_depth=10, max_features=auto, n_estimators=25, total= 1.3min\n",
      "[CV] max_depth=10, max_features=auto, n_estimators=25 ................\n",
      "[CV] . max_depth=10, max_features=auto, n_estimators=25, total= 1.2min\n",
      "[CV] max_depth=10, max_features=auto, n_estimators=25 ................\n",
      "[CV] . max_depth=10, max_features=auto, n_estimators=25, total= 1.2min\n",
      "[CV] max_depth=10, max_features=auto, n_estimators=50 ................\n",
      "[CV] . max_depth=10, max_features=auto, n_estimators=50, total= 1.6min\n",
      "[CV] max_depth=10, max_features=auto, n_estimators=50 ................\n",
      "[CV] . max_depth=10, max_features=auto, n_estimators=50, total= 1.5min\n",
      "[CV] max_depth=10, max_features=auto, n_estimators=50 ................\n",
      "[CV] . max_depth=10, max_features=auto, n_estimators=50, total= 1.4min\n",
      "[CV] max_depth=10, max_features=auto, n_estimators=100 ...............\n",
      "[CV]  max_depth=10, max_features=auto, n_estimators=100, total= 2.3min\n",
      "[CV] max_depth=10, max_features=auto, n_estimators=100 ...............\n",
      "[CV]  max_depth=10, max_features=auto, n_estimators=100, total= 2.0min\n",
      "[CV] max_depth=10, max_features=auto, n_estimators=100 ...............\n",
      "[CV]  max_depth=10, max_features=auto, n_estimators=100, total= 2.1min\n",
      "[CV] max_depth=10, max_features=sqrt, n_estimators=10 ................\n",
      "[CV] . max_depth=10, max_features=sqrt, n_estimators=10, total= 1.0min\n",
      "[CV] max_depth=10, max_features=sqrt, n_estimators=10 ................\n",
      "[CV] . max_depth=10, max_features=sqrt, n_estimators=10, total=  59.2s\n",
      "[CV] max_depth=10, max_features=sqrt, n_estimators=10 ................\n",
      "[CV] . max_depth=10, max_features=sqrt, n_estimators=10, total=  59.4s\n",
      "[CV] max_depth=10, max_features=sqrt, n_estimators=25 ................\n",
      "[CV] . max_depth=10, max_features=sqrt, n_estimators=25, total= 1.3min\n",
      "[CV] max_depth=10, max_features=sqrt, n_estimators=25 ................\n",
      "[CV] . max_depth=10, max_features=sqrt, n_estimators=25, total= 1.2min\n",
      "[CV] max_depth=10, max_features=sqrt, n_estimators=25 ................\n",
      "[CV] . max_depth=10, max_features=sqrt, n_estimators=25, total= 1.1min\n",
      "[CV] max_depth=10, max_features=sqrt, n_estimators=50 ................\n",
      "[CV] . max_depth=10, max_features=sqrt, n_estimators=50, total= 1.6min\n",
      "[CV] max_depth=10, max_features=sqrt, n_estimators=50 ................\n",
      "[CV] . max_depth=10, max_features=sqrt, n_estimators=50, total= 1.6min\n",
      "[CV] max_depth=10, max_features=sqrt, n_estimators=50 ................\n",
      "[CV] . max_depth=10, max_features=sqrt, n_estimators=50, total= 1.3min\n",
      "[CV] max_depth=10, max_features=sqrt, n_estimators=100 ...............\n",
      "[CV]  max_depth=10, max_features=sqrt, n_estimators=100, total= 2.2min\n",
      "[CV] max_depth=10, max_features=sqrt, n_estimators=100 ...............\n",
      "[CV]  max_depth=10, max_features=sqrt, n_estimators=100, total= 2.2min\n",
      "[CV] max_depth=10, max_features=sqrt, n_estimators=100 ...............\n",
      "[CV]  max_depth=10, max_features=sqrt, n_estimators=100, total= 2.1min\n",
      "[CV] max_depth=25, max_features=auto, n_estimators=10 ................\n",
      "[CV] . max_depth=25, max_features=auto, n_estimators=10, total= 1.2min\n",
      "[CV] max_depth=25, max_features=auto, n_estimators=10 ................\n",
      "[CV] . max_depth=25, max_features=auto, n_estimators=10, total= 1.0min\n",
      "[CV] max_depth=25, max_features=auto, n_estimators=10 ................\n",
      "[CV] . max_depth=25, max_features=auto, n_estimators=10, total= 1.1min\n",
      "[CV] max_depth=25, max_features=auto, n_estimators=25 ................\n",
      "[CV] . max_depth=25, max_features=auto, n_estimators=25, total= 1.7min\n",
      "[CV] max_depth=25, max_features=auto, n_estimators=25 ................\n",
      "[CV] . max_depth=25, max_features=auto, n_estimators=25, total= 1.5min\n",
      "[CV] max_depth=25, max_features=auto, n_estimators=25 ................\n",
      "[CV] . max_depth=25, max_features=auto, n_estimators=25, total= 1.5min\n",
      "[CV] max_depth=25, max_features=auto, n_estimators=50 ................\n",
      "[CV] . max_depth=25, max_features=auto, n_estimators=50, total= 2.4min\n",
      "[CV] max_depth=25, max_features=auto, n_estimators=50 ................\n",
      "[CV] . max_depth=25, max_features=auto, n_estimators=50, total= 2.1min\n",
      "[CV] max_depth=25, max_features=auto, n_estimators=50 ................\n",
      "[CV] . max_depth=25, max_features=auto, n_estimators=50, total= 2.2min\n",
      "[CV] max_depth=25, max_features=auto, n_estimators=100 ...............\n",
      "[CV]  max_depth=25, max_features=auto, n_estimators=100, total= 3.8min\n",
      "[CV] max_depth=25, max_features=auto, n_estimators=100 ...............\n",
      "[CV]  max_depth=25, max_features=auto, n_estimators=100, total= 3.8min\n",
      "[CV] max_depth=25, max_features=auto, n_estimators=100 ...............\n"
     ]
    },
    {
     "name": "stdout",
     "output_type": "stream",
     "text": [
      "[CV]  max_depth=25, max_features=auto, n_estimators=100, total= 3.8min\n",
      "[CV] max_depth=25, max_features=sqrt, n_estimators=10 ................\n",
      "[CV] . max_depth=25, max_features=sqrt, n_estimators=10, total= 1.2min\n",
      "[CV] max_depth=25, max_features=sqrt, n_estimators=10 ................\n",
      "[CV] . max_depth=25, max_features=sqrt, n_estimators=10, total= 1.1min\n",
      "[CV] max_depth=25, max_features=sqrt, n_estimators=10 ................\n",
      "[CV] . max_depth=25, max_features=sqrt, n_estimators=10, total= 1.1min\n",
      "[CV] max_depth=25, max_features=sqrt, n_estimators=25 ................\n",
      "[CV] . max_depth=25, max_features=sqrt, n_estimators=25, total= 1.5min\n",
      "[CV] max_depth=25, max_features=sqrt, n_estimators=25 ................\n",
      "[CV] . max_depth=25, max_features=sqrt, n_estimators=25, total= 1.5min\n",
      "[CV] max_depth=25, max_features=sqrt, n_estimators=25 ................\n",
      "[CV] . max_depth=25, max_features=sqrt, n_estimators=25, total= 1.6min\n",
      "[CV] max_depth=25, max_features=sqrt, n_estimators=50 ................\n",
      "[CV] . max_depth=25, max_features=sqrt, n_estimators=50, total= 2.1min\n",
      "[CV] max_depth=25, max_features=sqrt, n_estimators=50 ................\n",
      "[CV] . max_depth=25, max_features=sqrt, n_estimators=50, total= 2.3min\n",
      "[CV] max_depth=25, max_features=sqrt, n_estimators=50 ................\n",
      "[CV] . max_depth=25, max_features=sqrt, n_estimators=50, total= 2.3min\n",
      "[CV] max_depth=25, max_features=sqrt, n_estimators=100 ...............\n",
      "[CV]  max_depth=25, max_features=sqrt, n_estimators=100, total= 3.9min\n",
      "[CV] max_depth=25, max_features=sqrt, n_estimators=100 ...............\n",
      "[CV]  max_depth=25, max_features=sqrt, n_estimators=100, total= 3.7min\n",
      "[CV] max_depth=25, max_features=sqrt, n_estimators=100 ...............\n",
      "[CV]  max_depth=25, max_features=sqrt, n_estimators=100, total= 3.5min\n",
      "[CV] max_depth=50, max_features=auto, n_estimators=10 ................\n",
      "[CV] . max_depth=50, max_features=auto, n_estimators=10, total= 1.4min\n",
      "[CV] max_depth=50, max_features=auto, n_estimators=10 ................\n",
      "[CV] . max_depth=50, max_features=auto, n_estimators=10, total= 1.3min\n",
      "[CV] max_depth=50, max_features=auto, n_estimators=10 ................\n",
      "[CV] . max_depth=50, max_features=auto, n_estimators=10, total= 1.3min\n",
      "[CV] max_depth=50, max_features=auto, n_estimators=25 ................\n",
      "[CV] . max_depth=50, max_features=auto, n_estimators=25, total= 2.1min\n",
      "[CV] max_depth=50, max_features=auto, n_estimators=25 ................\n",
      "[CV] . max_depth=50, max_features=auto, n_estimators=25, total= 1.9min\n",
      "[CV] max_depth=50, max_features=auto, n_estimators=25 ................\n",
      "[CV] . max_depth=50, max_features=auto, n_estimators=25, total= 2.0min\n",
      "[CV] max_depth=50, max_features=auto, n_estimators=50 ................\n",
      "[CV] . max_depth=50, max_features=auto, n_estimators=50, total= 3.2min\n",
      "[CV] max_depth=50, max_features=auto, n_estimators=50 ................\n",
      "[CV] . max_depth=50, max_features=auto, n_estimators=50, total= 3.2min\n",
      "[CV] max_depth=50, max_features=auto, n_estimators=50 ................\n",
      "[CV] . max_depth=50, max_features=auto, n_estimators=50, total= 3.2min\n",
      "[CV] max_depth=50, max_features=auto, n_estimators=100 ...............\n",
      "[CV]  max_depth=50, max_features=auto, n_estimators=100, total= 5.8min\n",
      "[CV] max_depth=50, max_features=auto, n_estimators=100 ...............\n",
      "[CV]  max_depth=50, max_features=auto, n_estimators=100, total= 5.7min\n",
      "[CV] max_depth=50, max_features=auto, n_estimators=100 ...............\n",
      "[CV]  max_depth=50, max_features=auto, n_estimators=100, total= 5.6min\n",
      "[CV] max_depth=50, max_features=sqrt, n_estimators=10 ................\n",
      "[CV] . max_depth=50, max_features=sqrt, n_estimators=10, total= 1.4min\n",
      "[CV] max_depth=50, max_features=sqrt, n_estimators=10 ................\n",
      "[CV] . max_depth=50, max_features=sqrt, n_estimators=10, total= 1.4min\n",
      "[CV] max_depth=50, max_features=sqrt, n_estimators=10 ................\n",
      "[CV] . max_depth=50, max_features=sqrt, n_estimators=10, total=  58.1s\n",
      "[CV] max_depth=50, max_features=sqrt, n_estimators=25 ................\n",
      "[CV] . max_depth=50, max_features=sqrt, n_estimators=25, total= 2.1min\n",
      "[CV] max_depth=50, max_features=sqrt, n_estimators=25 ................\n",
      "[CV] . max_depth=50, max_features=sqrt, n_estimators=25, total= 2.1min\n",
      "[CV] max_depth=50, max_features=sqrt, n_estimators=25 ................\n",
      "[CV] . max_depth=50, max_features=sqrt, n_estimators=25, total= 1.9min\n",
      "[CV] max_depth=50, max_features=sqrt, n_estimators=50 ................\n",
      "[CV] . max_depth=50, max_features=sqrt, n_estimators=50, total= 3.4min\n",
      "[CV] max_depth=50, max_features=sqrt, n_estimators=50 ................\n",
      "[CV] . max_depth=50, max_features=sqrt, n_estimators=50, total= 3.3min\n",
      "[CV] max_depth=50, max_features=sqrt, n_estimators=50 ................\n",
      "[CV] . max_depth=50, max_features=sqrt, n_estimators=50, total= 3.2min\n",
      "[CV] max_depth=50, max_features=sqrt, n_estimators=100 ...............\n",
      "[CV]  max_depth=50, max_features=sqrt, n_estimators=100, total= 5.8min\n",
      "[CV] max_depth=50, max_features=sqrt, n_estimators=100 ...............\n",
      "[CV]  max_depth=50, max_features=sqrt, n_estimators=100, total= 5.7min\n",
      "[CV] max_depth=50, max_features=sqrt, n_estimators=100 ...............\n",
      "[CV]  max_depth=50, max_features=sqrt, n_estimators=100, total= 5.6min\n",
      "[CV] max_depth=100, max_features=auto, n_estimators=10 ...............\n",
      "[CV]  max_depth=100, max_features=auto, n_estimators=10, total= 1.7min\n",
      "[CV] max_depth=100, max_features=auto, n_estimators=10 ...............\n",
      "[CV]  max_depth=100, max_features=auto, n_estimators=10, total= 1.5min\n",
      "[CV] max_depth=100, max_features=auto, n_estimators=10 ...............\n",
      "[CV]  max_depth=100, max_features=auto, n_estimators=10, total= 1.5min\n",
      "[CV] max_depth=100, max_features=auto, n_estimators=25 ...............\n",
      "[CV]  max_depth=100, max_features=auto, n_estimators=25, total= 2.7min\n",
      "[CV] max_depth=100, max_features=auto, n_estimators=25 ...............\n",
      "[CV]  max_depth=100, max_features=auto, n_estimators=25, total= 2.5min\n",
      "[CV] max_depth=100, max_features=auto, n_estimators=25 ...............\n",
      "[CV]  max_depth=100, max_features=auto, n_estimators=25, total= 2.5min\n",
      "[CV] max_depth=100, max_features=auto, n_estimators=50 ...............\n",
      "[CV]  max_depth=100, max_features=auto, n_estimators=50, total= 4.4min\n",
      "[CV] max_depth=100, max_features=auto, n_estimators=50 ...............\n",
      "[CV]  max_depth=100, max_features=auto, n_estimators=50, total= 4.3min\n",
      "[CV] max_depth=100, max_features=auto, n_estimators=50 ...............\n",
      "[CV]  max_depth=100, max_features=auto, n_estimators=50, total= 4.4min\n",
      "[CV] max_depth=100, max_features=auto, n_estimators=100 ..............\n",
      "[CV]  max_depth=100, max_features=auto, n_estimators=100, total= 7.9min\n",
      "[CV] max_depth=100, max_features=auto, n_estimators=100 ..............\n",
      "[CV]  max_depth=100, max_features=auto, n_estimators=100, total= 7.9min\n",
      "[CV] max_depth=100, max_features=auto, n_estimators=100 ..............\n",
      "[CV]  max_depth=100, max_features=auto, n_estimators=100, total= 8.0min\n",
      "[CV] max_depth=100, max_features=sqrt, n_estimators=10 ...............\n",
      "[CV]  max_depth=100, max_features=sqrt, n_estimators=10, total= 1.6min\n",
      "[CV] max_depth=100, max_features=sqrt, n_estimators=10 ...............\n",
      "[CV]  max_depth=100, max_features=sqrt, n_estimators=10, total= 1.6min\n",
      "[CV] max_depth=100, max_features=sqrt, n_estimators=10 ...............\n",
      "[CV]  max_depth=100, max_features=sqrt, n_estimators=10, total= 1.5min\n",
      "[CV] max_depth=100, max_features=sqrt, n_estimators=25 ...............\n",
      "[CV]  max_depth=100, max_features=sqrt, n_estimators=25, total= 2.7min\n",
      "[CV] max_depth=100, max_features=sqrt, n_estimators=25 ...............\n",
      "[CV]  max_depth=100, max_features=sqrt, n_estimators=25, total= 2.6min\n",
      "[CV] max_depth=100, max_features=sqrt, n_estimators=25 ...............\n",
      "[CV]  max_depth=100, max_features=sqrt, n_estimators=25, total= 2.5min\n",
      "[CV] max_depth=100, max_features=sqrt, n_estimators=50 ...............\n",
      "[CV]  max_depth=100, max_features=sqrt, n_estimators=50, total= 4.5min\n",
      "[CV] max_depth=100, max_features=sqrt, n_estimators=50 ...............\n",
      "[CV]  max_depth=100, max_features=sqrt, n_estimators=50, total= 4.3min\n",
      "[CV] max_depth=100, max_features=sqrt, n_estimators=50 ...............\n",
      "[CV]  max_depth=100, max_features=sqrt, n_estimators=50, total= 4.3min\n",
      "[CV] max_depth=100, max_features=sqrt, n_estimators=100 ..............\n"
     ]
    },
    {
     "name": "stdout",
     "output_type": "stream",
     "text": [
      "[CV]  max_depth=100, max_features=sqrt, n_estimators=100, total= 8.0min\n",
      "[CV] max_depth=100, max_features=sqrt, n_estimators=100 ..............\n",
      "[CV]  max_depth=100, max_features=sqrt, n_estimators=100, total= 7.9min\n",
      "[CV] max_depth=100, max_features=sqrt, n_estimators=100 ..............\n",
      "[CV]  max_depth=100, max_features=sqrt, n_estimators=100, total= 7.8min\n"
     ]
    },
    {
     "name": "stderr",
     "output_type": "stream",
     "text": [
      "[Parallel(n_jobs=1)]: Done 120 out of 120 | elapsed: 418.7min finished\n"
     ]
    },
    {
     "data": {
      "text/plain": [
       "GridSearchCV(cv=3, error_score='raise',\n",
       "       estimator=RandomForestClassifier(bootstrap=True, class_weight=None, criterion='gini',\n",
       "            max_depth=None, max_features='auto', max_leaf_nodes=None,\n",
       "            min_impurity_decrease=0.0, min_impurity_split=None,\n",
       "            min_samples_leaf=1, min_samples_split=2,\n",
       "            min_weight_fraction_leaf=0.0, n_estimators=10, n_jobs=1,\n",
       "            oob_score=False, random_state=None, verbose=0,\n",
       "            warm_start=False),\n",
       "       fit_params=None, iid=True, n_jobs=1,\n",
       "       param_grid={'n_estimators': [10, 25, 50, 100], 'max_depth': [None, 10, 25, 50, 100], 'max_features': ['auto', 'sqrt']},\n",
       "       pre_dispatch='2*n_jobs', refit=True, return_train_score=True,\n",
       "       scoring=None, verbose=2)"
      ]
     },
     "execution_count": 21,
     "metadata": {},
     "output_type": "execute_result"
    }
   ],
   "source": [
    "grid_rf.fit(X_train_features, y_train)"
   ]
  },
  {
   "cell_type": "code",
   "execution_count": 22,
   "metadata": {},
   "outputs": [
    {
     "data": {
      "text/plain": [
       "RandomForestClassifier(bootstrap=True, class_weight=None, criterion='gini',\n",
       "            max_depth=None, max_features='sqrt', max_leaf_nodes=None,\n",
       "            min_impurity_decrease=0.0, min_impurity_split=None,\n",
       "            min_samples_leaf=1, min_samples_split=2,\n",
       "            min_weight_fraction_leaf=0.0, n_estimators=100, n_jobs=1,\n",
       "            oob_score=False, random_state=None, verbose=0,\n",
       "            warm_start=False)"
      ]
     },
     "execution_count": 22,
     "metadata": {},
     "output_type": "execute_result"
    }
   ],
   "source": [
    "grid_rf.best_estimator_"
   ]
  },
  {
   "cell_type": "code",
   "execution_count": 23,
   "metadata": {},
   "outputs": [
    {
     "data": {
      "text/plain": [
       "{'max_depth': None, 'max_features': 'sqrt', 'n_estimators': 100}"
      ]
     },
     "execution_count": 23,
     "metadata": {},
     "output_type": "execute_result"
    }
   ],
   "source": [
    "grid_rf.best_params_"
   ]
  },
  {
   "cell_type": "code",
   "execution_count": 24,
   "metadata": {},
   "outputs": [
    {
     "data": {
      "text/plain": [
       "0.7408572342467215"
      ]
     },
     "execution_count": 24,
     "metadata": {},
     "output_type": "execute_result"
    }
   ],
   "source": [
    "grid_rf.best_score_"
   ]
  },
  {
   "cell_type": "code",
   "execution_count": 20,
   "metadata": {},
   "outputs": [],
   "source": [
    "vectorizer = TfidfVectorizer(stop_words='english')\n",
    "\n",
    "rf = RandomForestClassifier(n_estimators=100, max_features='sqrt')"
   ]
  },
  {
   "cell_type": "code",
   "execution_count": 33,
   "metadata": {},
   "outputs": [
    {
     "data": {
      "text/plain": [
       "0.9984806482567438"
      ]
     },
     "execution_count": 33,
     "metadata": {},
     "output_type": "execute_result"
    }
   ],
   "source": [
    "X_train_features = vectorizer.fit_transform(X_train['joint_words'])\n",
    "X_train_features = X_train_features.toarray()\n",
    "\n",
    "rf.fit(X_train_features, y_train)\n",
    "\n",
    "rf.score(X_train_features, y_train)"
   ]
  },
  {
   "cell_type": "code",
   "execution_count": 34,
   "metadata": {},
   "outputs": [
    {
     "data": {
      "text/plain": [
       "0.7493203262434032"
      ]
     },
     "execution_count": 34,
     "metadata": {},
     "output_type": "execute_result"
    }
   ],
   "source": [
    "X_test_features = vectorizer.transform(X_test['joint_words'])\n",
    "X_test_features = X_test_features.toarray()\n",
    "\n",
    "rf.score(X_test_features, y_test)"
   ]
  },
  {
   "cell_type": "markdown",
   "metadata": {},
   "source": [
    "## Word Counts"
   ]
  },
  {
   "cell_type": "code",
   "execution_count": 24,
   "metadata": {},
   "outputs": [
    {
     "data": {
      "text/plain": [
       "(12506, 38135)"
      ]
     },
     "execution_count": 24,
     "metadata": {},
     "output_type": "execute_result"
    }
   ],
   "source": [
    "X_test_features.shape"
   ]
  },
  {
   "cell_type": "code",
   "execution_count": 36,
   "metadata": {
    "scrolled": true
   },
   "outputs": [],
   "source": [
    "features = vectorizer.get_feature_names()"
   ]
  },
  {
   "cell_type": "code",
   "execution_count": 40,
   "metadata": {},
   "outputs": [
    {
     "data": {
      "text/plain": [
       "list"
      ]
     },
     "execution_count": 40,
     "metadata": {},
     "output_type": "execute_result"
    }
   ],
   "source": [
    "type(features)"
   ]
  },
  {
   "cell_type": "code",
   "execution_count": 56,
   "metadata": {},
   "outputs": [],
   "source": [
    "tdf = pd.DataFrame(X_test_features)"
   ]
  },
  {
   "cell_type": "code",
   "execution_count": 57,
   "metadata": {},
   "outputs": [
    {
     "data": {
      "text/html": [
       "<div>\n",
       "<style scoped>\n",
       "    .dataframe tbody tr th:only-of-type {\n",
       "        vertical-align: middle;\n",
       "    }\n",
       "\n",
       "    .dataframe tbody tr th {\n",
       "        vertical-align: top;\n",
       "    }\n",
       "\n",
       "    .dataframe thead th {\n",
       "        text-align: right;\n",
       "    }\n",
       "</style>\n",
       "<table border=\"1\" class=\"dataframe\">\n",
       "  <thead>\n",
       "    <tr style=\"text-align: right;\">\n",
       "      <th></th>\n",
       "      <th>0</th>\n",
       "      <th>1</th>\n",
       "      <th>2</th>\n",
       "      <th>3</th>\n",
       "      <th>4</th>\n",
       "      <th>5</th>\n",
       "      <th>6</th>\n",
       "      <th>7</th>\n",
       "      <th>8</th>\n",
       "      <th>9</th>\n",
       "      <th>...</th>\n",
       "      <th>38125</th>\n",
       "      <th>38126</th>\n",
       "      <th>38127</th>\n",
       "      <th>38128</th>\n",
       "      <th>38129</th>\n",
       "      <th>38130</th>\n",
       "      <th>38131</th>\n",
       "      <th>38132</th>\n",
       "      <th>38133</th>\n",
       "      <th>38134</th>\n",
       "    </tr>\n",
       "  </thead>\n",
       "  <tbody>\n",
       "    <tr>\n",
       "      <th>0</th>\n",
       "      <td>0.0</td>\n",
       "      <td>0.0</td>\n",
       "      <td>0.0</td>\n",
       "      <td>0.0</td>\n",
       "      <td>0.0</td>\n",
       "      <td>0.0</td>\n",
       "      <td>0.0</td>\n",
       "      <td>0.0</td>\n",
       "      <td>0.0</td>\n",
       "      <td>0.0</td>\n",
       "      <td>...</td>\n",
       "      <td>0.0</td>\n",
       "      <td>0.0</td>\n",
       "      <td>0.0</td>\n",
       "      <td>0.0</td>\n",
       "      <td>0.0</td>\n",
       "      <td>0.0</td>\n",
       "      <td>0.0</td>\n",
       "      <td>0.0</td>\n",
       "      <td>0.0</td>\n",
       "      <td>0.0</td>\n",
       "    </tr>\n",
       "    <tr>\n",
       "      <th>1</th>\n",
       "      <td>0.0</td>\n",
       "      <td>0.0</td>\n",
       "      <td>0.0</td>\n",
       "      <td>0.0</td>\n",
       "      <td>0.0</td>\n",
       "      <td>0.0</td>\n",
       "      <td>0.0</td>\n",
       "      <td>0.0</td>\n",
       "      <td>0.0</td>\n",
       "      <td>0.0</td>\n",
       "      <td>...</td>\n",
       "      <td>0.0</td>\n",
       "      <td>0.0</td>\n",
       "      <td>0.0</td>\n",
       "      <td>0.0</td>\n",
       "      <td>0.0</td>\n",
       "      <td>0.0</td>\n",
       "      <td>0.0</td>\n",
       "      <td>0.0</td>\n",
       "      <td>0.0</td>\n",
       "      <td>0.0</td>\n",
       "    </tr>\n",
       "    <tr>\n",
       "      <th>2</th>\n",
       "      <td>0.0</td>\n",
       "      <td>0.0</td>\n",
       "      <td>0.0</td>\n",
       "      <td>0.0</td>\n",
       "      <td>0.0</td>\n",
       "      <td>0.0</td>\n",
       "      <td>0.0</td>\n",
       "      <td>0.0</td>\n",
       "      <td>0.0</td>\n",
       "      <td>0.0</td>\n",
       "      <td>...</td>\n",
       "      <td>0.0</td>\n",
       "      <td>0.0</td>\n",
       "      <td>0.0</td>\n",
       "      <td>0.0</td>\n",
       "      <td>0.0</td>\n",
       "      <td>0.0</td>\n",
       "      <td>0.0</td>\n",
       "      <td>0.0</td>\n",
       "      <td>0.0</td>\n",
       "      <td>0.0</td>\n",
       "    </tr>\n",
       "    <tr>\n",
       "      <th>3</th>\n",
       "      <td>0.0</td>\n",
       "      <td>0.0</td>\n",
       "      <td>0.0</td>\n",
       "      <td>0.0</td>\n",
       "      <td>0.0</td>\n",
       "      <td>0.0</td>\n",
       "      <td>0.0</td>\n",
       "      <td>0.0</td>\n",
       "      <td>0.0</td>\n",
       "      <td>0.0</td>\n",
       "      <td>...</td>\n",
       "      <td>0.0</td>\n",
       "      <td>0.0</td>\n",
       "      <td>0.0</td>\n",
       "      <td>0.0</td>\n",
       "      <td>0.0</td>\n",
       "      <td>0.0</td>\n",
       "      <td>0.0</td>\n",
       "      <td>0.0</td>\n",
       "      <td>0.0</td>\n",
       "      <td>0.0</td>\n",
       "    </tr>\n",
       "    <tr>\n",
       "      <th>4</th>\n",
       "      <td>0.0</td>\n",
       "      <td>0.0</td>\n",
       "      <td>0.0</td>\n",
       "      <td>0.0</td>\n",
       "      <td>0.0</td>\n",
       "      <td>0.0</td>\n",
       "      <td>0.0</td>\n",
       "      <td>0.0</td>\n",
       "      <td>0.0</td>\n",
       "      <td>0.0</td>\n",
       "      <td>...</td>\n",
       "      <td>0.0</td>\n",
       "      <td>0.0</td>\n",
       "      <td>0.0</td>\n",
       "      <td>0.0</td>\n",
       "      <td>0.0</td>\n",
       "      <td>0.0</td>\n",
       "      <td>0.0</td>\n",
       "      <td>0.0</td>\n",
       "      <td>0.0</td>\n",
       "      <td>0.0</td>\n",
       "    </tr>\n",
       "  </tbody>\n",
       "</table>\n",
       "<p>5 rows × 38135 columns</p>\n",
       "</div>"
      ],
      "text/plain": [
       "   0      1      2      3      4      5      6      7      8      9      \\\n",
       "0    0.0    0.0    0.0    0.0    0.0    0.0    0.0    0.0    0.0    0.0   \n",
       "1    0.0    0.0    0.0    0.0    0.0    0.0    0.0    0.0    0.0    0.0   \n",
       "2    0.0    0.0    0.0    0.0    0.0    0.0    0.0    0.0    0.0    0.0   \n",
       "3    0.0    0.0    0.0    0.0    0.0    0.0    0.0    0.0    0.0    0.0   \n",
       "4    0.0    0.0    0.0    0.0    0.0    0.0    0.0    0.0    0.0    0.0   \n",
       "\n",
       "   ...    38125  38126  38127  38128  38129  38130  38131  38132  38133  38134  \n",
       "0  ...      0.0    0.0    0.0    0.0    0.0    0.0    0.0    0.0    0.0    0.0  \n",
       "1  ...      0.0    0.0    0.0    0.0    0.0    0.0    0.0    0.0    0.0    0.0  \n",
       "2  ...      0.0    0.0    0.0    0.0    0.0    0.0    0.0    0.0    0.0    0.0  \n",
       "3  ...      0.0    0.0    0.0    0.0    0.0    0.0    0.0    0.0    0.0    0.0  \n",
       "4  ...      0.0    0.0    0.0    0.0    0.0    0.0    0.0    0.0    0.0    0.0  \n",
       "\n",
       "[5 rows x 38135 columns]"
      ]
     },
     "execution_count": 57,
     "metadata": {},
     "output_type": "execute_result"
    }
   ],
   "source": [
    "tdf.head()"
   ]
  },
  {
   "cell_type": "code",
   "execution_count": 62,
   "metadata": {},
   "outputs": [
    {
     "data": {
      "text/plain": [
       "1.135193679824133"
      ]
     },
     "execution_count": 62,
     "metadata": {},
     "output_type": "execute_result"
    }
   ],
   "source": [
    "tdf[0].sum()"
   ]
  },
  {
   "cell_type": "code",
   "execution_count": 68,
   "metadata": {},
   "outputs": [],
   "source": [
    "feat_matrix = {}\n",
    "for k, v in enumerate(features):\n",
    "    feat_matrix[v] = tdf[k].sum()"
   ]
  },
  {
   "cell_type": "code",
   "execution_count": 72,
   "metadata": {},
   "outputs": [],
   "source": [
    "sorted_feat_names = sorted(feat_matrix, key= lambda key: abs(feat_matrix[key]), reverse=True)"
   ]
  },
  {
   "cell_type": "code",
   "execution_count": 73,
   "metadata": {},
   "outputs": [],
   "source": [
    "sorted_feat_matrix = {}\n",
    "for i in sorted_feat_names:\n",
    "    sorted_feat_matrix[i] = feat_matrix[i]"
   ]
  },
  {
   "cell_type": "code",
   "execution_count": 74,
   "metadata": {},
   "outputs": [
    {
     "data": {
      "text/plain": [
       "{'like': 370.07288895807505,\n",
       " 'just': 310.6674737345767,\n",
       " 'women': 266.3407687792305,\n",
       " 'did': 250.91104188476714,\n",
       " 'feel': 240.7278824748699,\n",
       " 've': 237.0659961832553,\n",
       " 'know': 230.94623796402405,\n",
       " 'don': 229.5774859368958,\n",
       " 'men': 217.66506074660947,\n",
       " 'want': 210.83167505820927,\n",
       " 'time': 206.23391810495482,\n",
       " 'think': 198.86416629846454,\n",
       " 'really': 189.42217377457217,\n",
       " 'guy': 176.06349051361963,\n",
       " 'guys': 174.76140651283487,\n",
       " 'people': 171.25448717437988,\n",
       " 'friends': 163.4499698025269,\n",
       " 'relationship': 161.25595406774966,\n",
       " 'girl': 161.19282401120063,\n",
       " 'sex': 152.90895112676873,\n",
       " 'good': 150.90333026026835,\n",
       " 'does': 149.04920628926914,\n",
       " 'make': 148.58568186672704,\n",
       " 'life': 145.661621526416,\n",
       " 'things': 145.15803577807654,\n",
       " 'love': 136.53316688861682,\n",
       " 'work': 133.11448903926498,\n",
       " 'friend': 126.22708546638124,\n",
       " 'way': 121.02415206793023,\n",
       " 'going': 120.99120431384958,\n",
       " 'long': 119.90381551153148,\n",
       " 'woman': 119.57034939984514,\n",
       " 'dating': 117.49751094104836,\n",
       " 'best': 116.81102752638546,\n",
       " 'man': 114.27199255615784,\n",
       " 'date': 113.11769989979854,\n",
       " 'day': 111.03102641342846,\n",
       " 'girls': 107.85240422326619,\n",
       " 'say': 107.66618469664229,\n",
       " 'looking': 104.77915377245245,\n",
       " 'got': 104.19697413378573,\n",
       " 'thing': 104.14253737569217,\n",
       " 'lot': 99.98691427084158,\n",
       " 'years': 99.14217213738314,\n",
       " 'year': 98.1568915751958,\n",
       " 'having': 96.4121690358755,\n",
       " 'ladies': 96.28380859109775,\n",
       " 'getting': 95.92635311355149,\n",
       " 'hair': 95.41395679841787,\n",
       " 'look': 95.39511716803733,\n",
       " 'said': 94.25812789299493,\n",
       " 'ask': 93.76550846247443,\n",
       " 'reddit': 93.36106493264136,\n",
       " 'tell': 92.26847602350382,\n",
       " 'new': 90.24040928792775,\n",
       " 'person': 89.73125699510763,\n",
       " 'need': 88.2176941377628,\n",
       " 'help': 88.20090508767622,\n",
       " 'question': 87.6866782707636,\n",
       " 'didn': 85.99396119278265,\n",
       " 'experience': 83.02367684205731,\n",
       " 'doesn': 81.7677766032943,\n",
       " 'talk': 80.80373156207116,\n",
       " 'advice': 80.09997829730132,\n",
       " 'partner': 79.42285053547198,\n",
       " 'girlfriend': 78.65234803763683,\n",
       " 'right': 78.55346083211072,\n",
       " 'deal': 78.53842933980538,\n",
       " 'job': 78.31218875610858,\n",
       " 'curious': 77.8323885515932,\n",
       " 'better': 77.13844530989559,\n",
       " 'pretty': 76.87637947745746,\n",
       " 'favorite': 76.78322894903336,\n",
       " 'trying': 75.66029366821081,\n",
       " 'told': 75.59184197049412,\n",
       " 'old': 75.33321337945908,\n",
       " 'use': 73.75351386011384,\n",
       " 'start': 73.52870302492101,\n",
       " 'bad': 72.90108447433325,\n",
       " 'doing': 72.76321817764038,\n",
       " 'little': 72.39664074547835,\n",
       " 'amp': 72.01433253231629,\n",
       " 'sure': 71.77814946097,\n",
       " 'asked': 71.5223237058661,\n",
       " 'll': 70.95857474780478,\n",
       " 'kind': 70.63755128275727,\n",
       " 'mean': 70.27005346644808,\n",
       " 'attractive': 70.08303885653176,\n",
       " 'interested': 70.0792866797376,\n",
       " 'thought': 68.68122499491952,\n",
       " 'months': 68.01368096019232,\n",
       " 'talking': 67.7603473408315,\n",
       " 'asking': 66.92812024148662,\n",
       " 'school': 66.47281272787114,\n",
       " 'started': 66.31004646236346,\n",
       " 'makes': 65.8420547701185,\n",
       " 'thoughts': 65.38682868060431,\n",
       " 'wondering': 65.30441844956758,\n",
       " 'tips': 65.24322192869222,\n",
       " 'try': 65.08330963495078,\n",
       " 'ex': 64.84259825409578,\n",
       " 'days': 64.70709960590672,\n",
       " 'hear': 64.42819400893629,\n",
       " 'age': 64.2102356670373,\n",
       " 'thanks': 64.14720765190309,\n",
       " 'let': 64.14038214506077,\n",
       " 'times': 63.76253679624217,\n",
       " 'female': 63.46685740134618,\n",
       " 'college': 62.45770914112522,\n",
       " 'recently': 62.39102704253825,\n",
       " 'im': 62.15622401122601,\n",
       " 'relationships': 61.76657375043297,\n",
       " 'wanted': 61.45014103675901,\n",
       " 'stop': 61.127252627721106,\n",
       " 'actually': 61.06492451187575,\n",
       " 'week': 60.44794818230025,\n",
       " 'feeling': 60.072159022189894,\n",
       " 'home': 59.98854704093388,\n",
       " 'hard': 59.93065988195947,\n",
       " 'night': 59.53313743862809,\n",
       " 'bit': 59.504762276612816,\n",
       " 'male': 58.50855054938468,\n",
       " 'went': 58.38957446886667,\n",
       " 'thinking': 58.18078323505376,\n",
       " 'family': 57.95843051724003,\n",
       " 'away': 57.75543378580834,\n",
       " 'self': 57.56288890484265,\n",
       " 'different': 57.19929134471016,\n",
       " 'body': 56.940345609040115,\n",
       " 'boyfriend': 56.288410219368686,\n",
       " 'come': 56.165864028254205,\n",
       " 'weird': 55.87901569703765,\n",
       " 'situation': 55.640533752070766,\n",
       " 'maybe': 55.63691432889399,\n",
       " 'change': 55.623611651331395,\n",
       " 'ago': 55.39185303225706,\n",
       " 'nice': 55.16751886390561,\n",
       " 'met': 54.62856127276582,\n",
       " 'past': 54.06519460378258,\n",
       " 'point': 52.72954292000936,\n",
       " 'great': 52.68249041617992,\n",
       " 'care': 52.195891429701796,\n",
       " 'post': 52.05419527601215,\n",
       " 'end': 51.215573069320676,\n",
       " 'usually': 50.98399684942122,\n",
       " 'x200b': 50.97595253796118,\n",
       " 'removed': 50.802892649420635,\n",
       " 'single': 50.34278941142843,\n",
       " 'feelings': 50.336584634680285,\n",
       " 'social': 50.27529015619326,\n",
       " 'sexual': 50.23464475186966,\n",
       " 'used': 50.062417755093506,\n",
       " 'big': 50.03274681882607,\n",
       " 'wear': 49.639902139337764,\n",
       " 'isn': 49.46283860225791,\n",
       " 'says': 49.326836678492526,\n",
       " 'wrong': 48.491206531425455,\n",
       " 'stuff': 48.41534781124814,\n",
       " 'happened': 48.05448831387112,\n",
       " 'happy': 47.86874730282396,\n",
       " 'meet': 47.600043049484555,\n",
       " 'experiences': 47.59469691032311,\n",
       " 'making': 47.41477129193321,\n",
       " 'opinion': 47.3566705186919,\n",
       " 'place': 47.330160141304994,\n",
       " 'high': 47.3173624737107,\n",
       " 'tried': 47.1117130513151,\n",
       " 'working': 45.75768343168072,\n",
       " 'mind': 45.3985263186176,\n",
       " 'married': 45.36529526742393,\n",
       " 'saying': 44.92822077333044,\n",
       " 'live': 44.87655720083773,\n",
       " 'edit': 44.601860887303594,\n",
       " 'reason': 44.35575260689206,\n",
       " 'conversation': 44.35417137634724,\n",
       " 'story': 44.25120135513775,\n",
       " 'couple': 44.12315232154435,\n",
       " 'stories': 44.02733991888839,\n",
       " 'idea': 44.01333383969394,\n",
       " 'title': 43.9050119228161,\n",
       " 'felt': 43.85145739767103,\n",
       " 'parents': 43.22025672737841,\n",
       " 'close': 42.88639506229924,\n",
       " 'wants': 42.81139915328936,\n",
       " 'type': 42.80168948952468,\n",
       " 'seeing': 42.764070048591634,\n",
       " 'turn': 42.725846883228904,\n",
       " 'online': 42.38723221435067,\n",
       " 'house': 42.07633958449485,\n",
       " 'small': 41.647244389348785,\n",
       " 'today': 41.47826041051279,\n",
       " 'money': 41.40648960688719,\n",
       " 'period': 40.3637344150412,\n",
       " 'seen': 40.20107061486353,\n",
       " 'stay': 40.06220870786805,\n",
       " 'common': 39.885510868543705,\n",
       " 'normal': 39.719232725425414,\n",
       " 'problem': 39.65818541002936,\n",
       " 'ways': 39.352338301070326,\n",
       " 'fun': 39.15817486215457,\n",
       " '10': 39.141794293532726,\n",
       " 'short': 39.12721046947891,\n",
       " 'kids': 38.73648761410777,\n",
       " 'text': 38.701915268257224,\n",
       " 'weeks': 38.66685220489114,\n",
       " 'com': 38.64969341328143,\n",
       " 'https': 38.63368668201013,\n",
       " 'probably': 38.618510696402026,\n",
       " 'older': 38.171588937122166,\n",
       " 'comes': 38.00684454820929,\n",
       " 'later': 37.959142162676315,\n",
       " 'month': 37.8812741849962,\n",
       " 'especially': 37.87361131064516,\n",
       " 'enjoy': 37.84308790450399,\n",
       " 'haven': 37.7191689174026,\n",
       " 'wife': 37.710924301680166,\n",
       " 'feels': 37.67758158892778,\n",
       " 'break': 37.29866508768294,\n",
       " 'able': 37.082121131235795,\n",
       " 'real': 37.06105154419231,\n",
       " 'approach': 36.961387923772534,\n",
       " 'face': 36.95713963336308,\n",
       " 'living': 36.92440349943372,\n",
       " 'hey': 36.86261148820384,\n",
       " 'shit': 36.86092483174181,\n",
       " 'askwomen': 36.433503810464245,\n",
       " 'basically': 36.406252725375246,\n",
       " 'left': 36.40249352497626,\n",
       " 'free': 36.392085813092585,\n",
       " 'super': 36.31156465967746,\n",
       " 'share': 36.06392256631369,\n",
       " 'anxiety': 35.76470576049408,\n",
       " 'looks': 35.72346681878935,\n",
       " 'thank': 35.68099928476141,\n",
       " 'group': 35.635944019145725,\n",
       " 'attracted': 35.608670527387574,\n",
       " 'currently': 35.41749712236207,\n",
       " 'lost': 35.15544335547092,\n",
       " 'tinder': 35.15026648378199,\n",
       " 'ideas': 35.14538044438776,\n",
       " 'wasn': 35.105585854602865,\n",
       " 'example': 35.01317713760632,\n",
       " 'head': 34.76759662145565,\n",
       " 'questions': 34.732249648182346,\n",
       " '20': 34.65415827040242,\n",
       " 'moved': 34.639951070145145,\n",
       " 'play': 34.62539009946019,\n",
       " 'cute': 34.60853102163716,\n",
       " 'gets': 34.49861261121326,\n",
       " 'starting': 34.49626611731583,\n",
       " 'hate': 34.31649522647138,\n",
       " 'weight': 34.212847292988734,\n",
       " 'read': 34.14325703179547,\n",
       " 'straight': 34.12036248947492,\n",
       " 'world': 34.093628577575856,\n",
       " 'handle': 34.02946981990217,\n",
       " 'understand': 34.00377610076113,\n",
       " 'wish': 33.891485025740394,\n",
       " 'buy': 33.795337370629326,\n",
       " 'far': 33.715207100694265,\n",
       " 'prefer': 33.71257687271621,\n",
       " 'dont': 33.684743190260065,\n",
       " 'hit': 33.642279778079775,\n",
       " 'physical': 33.54733370956117,\n",
       " 'sleep': 33.34766254580017,\n",
       " 'saw': 33.28193633300339,\n",
       " 'porn': 32.924963985674026,\n",
       " 'personal': 32.853784043830004,\n",
       " 'gym': 32.807859592515285,\n",
       " 'taking': 32.71692760744364,\n",
       " 'broke': 32.69050887473373,\n",
       " 'happen': 32.61473174473647,\n",
       " 'romantic': 32.47934157728568,\n",
       " 'hours': 32.393673934259056,\n",
       " 'open': 32.24440975534064,\n",
       " 'spend': 32.105133326958,\n",
       " 'quite': 31.959552963696673,\n",
       " 'noticed': 31.731763510522075,\n",
       " 'number': 31.682482849830063,\n",
       " 'coming': 31.515989138989784,\n",
       " 'won': 31.317594295194247,\n",
       " 'similar': 31.31369215995826,\n",
       " 'dated': 31.310466335066383,\n",
       " 'completely': 31.213621136789786,\n",
       " 'fuck': 31.186399683194338,\n",
       " 'young': 31.09928163446045,\n",
       " 'came': 31.058227547819214,\n",
       " 'hang': 30.929238640729853,\n",
       " 'guess': 30.912782528137228,\n",
       " 'gay': 30.787051107266382,\n",
       " 'reasons': 30.649272607107648,\n",
       " 'personally': 30.558187111150072,\n",
       " 'worth': 30.501734709433563,\n",
       " 'issues': 30.468242903127354,\n",
       " 'crush': 30.381392785702584,\n",
       " 'bed': 30.361637025564455,\n",
       " 'heard': 30.106378782418133,\n",
       " 'important': 30.06122403782836,\n",
       " 'using': 29.897735397854333,\n",
       " 'soon': 29.82228270713387,\n",
       " 'moment': 29.814838395000233,\n",
       " 'general': 29.765342222630174,\n",
       " 'dad': 29.7483150806753,\n",
       " 'leave': 29.685780427985677,\n",
       " 'attention': 29.68522683684983,\n",
       " 'second': 29.65642609727745,\n",
       " 'answer': 29.594416608444305,\n",
       " 'matter': 29.502034875600135,\n",
       " 'skin': 29.402734786318067,\n",
       " 'contact': 29.397823622495793,\n",
       " 'anymore': 29.29010572308684,\n",
       " 'comfortable': 29.282608922664963,\n",
       " 'dates': 29.22192461814395,\n",
       " 'media': 29.217878288441497,\n",
       " 'wanna': 29.190740100129293,\n",
       " 'children': 29.10365227202993,\n",
       " 'consider': 29.04821063833677,\n",
       " 'dick': 28.810579530071557,\n",
       " 'okay': 28.713632720440945,\n",
       " 'likes': 28.66615834399068,\n",
       " 'kinda': 28.62236579996565,\n",
       " 'child': 28.601554068903624,\n",
       " 'changed': 28.517792358465393,\n",
       " 'believe': 28.497369875728253,\n",
       " '30': 28.468733992383708,\n",
       " 'hot': 28.43397068448116,\n",
       " 'worst': 28.354185681331845,\n",
       " 'moving': 28.332396014605006,\n",
       " 'early': 28.239130892674908,\n",
       " 'askmen': 28.23842500979449,\n",
       " 'size': 28.211823060774407,\n",
       " 'party': 28.15073768434754,\n",
       " 'term': 28.1160811884004,\n",
       " 'hi': 28.070606610591433,\n",
       " 'phone': 27.912306379509005,\n",
       " 'wearing': 27.785665346433625,\n",
       " 'average': 27.77868640361922,\n",
       " 'game': 27.738109015542157,\n",
       " 'called': 27.72818798677436,\n",
       " 'gf': 27.676395095725823,\n",
       " 'awkward': 27.62454911999356,\n",
       " 'turned': 27.617972275389118,\n",
       " 'opinions': 27.50288819702323,\n",
       " 'yes': 27.11066826457772,\n",
       " 'lately': 27.064595877676425,\n",
       " 'ended': 27.061887600036812,\n",
       " 'learn': 27.04459379598055,\n",
       " 'ones': 27.032284304089217,\n",
       " 'sorry': 26.998571625120462,\n",
       " 'realize': 26.924904118263655,\n",
       " 'pain': 26.919852924568605,\n",
       " 'emotional': 26.79886445211364,\n",
       " 'talked': 26.71723446403397,\n",
       " 'gone': 26.693192428177905,\n",
       " 'issue': 26.571375695480583,\n",
       " 'makeup': 26.547024780124822,\n",
       " 'morning': 26.503167839967823,\n",
       " 'difference': 26.48655726553945,\n",
       " 'weekend': 26.440043966661282,\n",
       " 'husband': 26.434279614084133,\n",
       " 'obviously': 26.401944822069428,\n",
       " 'career': 26.383081642786383,\n",
       " 'decided': 26.34333257718172,\n",
       " 'lol': 26.265647726208492,\n",
       " 'eat': 26.25484974822197,\n",
       " 'younger': 26.18535336341432,\n",
       " 'gotten': 26.128452587278755,\n",
       " 'aren': 26.065437971541233,\n",
       " 'wouldn': 26.04263373428147,\n",
       " 'music': 25.956847178978293,\n",
       " 'watch': 25.917046221566522,\n",
       " 'sort': 25.91182993511888,\n",
       " 'comments': 25.88835865909664,\n",
       " 'goes': 25.86328807468133,\n",
       " 'father': 25.832987349958405,\n",
       " 'friendship': 25.819837097518192,\n",
       " 'future': 25.788797726442606,\n",
       " 'wait': 25.67714886745669,\n",
       " 'mom': 25.672863660145204,\n",
       " 'movie': 25.468231659770343,\n",
       " 'giving': 25.459884009796767,\n",
       " 'hurt': 25.402394779624863,\n",
       " 'message': 25.39584917750415,\n",
       " 'honestly': 25.344614534996243,\n",
       " 'positive': 25.320669119182767,\n",
       " 'finding': 25.302990891638977,\n",
       " 'pay': 25.25232090080638,\n",
       " 'reading': 25.226990860443586,\n",
       " 'clothes': 25.17979659211873,\n",
       " 'certain': 25.117621780937334,\n",
       " 'late': 25.08014519604113,\n",
       " 'sexy': 25.06661373928456,\n",
       " 'non': 25.030610271799457,\n",
       " 'recommend': 24.966111209472675,\n",
       " 'hope': 24.83770132772647,\n",
       " 'hobbies': 24.837424728800535,\n",
       " 'react': 24.826071810098156,\n",
       " 'bring': 24.74522287611712,\n",
       " 'cause': 24.699624343994685,\n",
       " 'half': 24.688987301355585,\n",
       " 'control': 24.61015719484147,\n",
       " 'food': 24.512926427465054,\n",
       " 'finally': 24.456037115875052,\n",
       " 'appreciated': 24.399566402904753,\n",
       " 'white': 24.398525982944243,\n",
       " 'possible': 24.34211986500621,\n",
       " 'cut': 24.337141899797228,\n",
       " 'dude': 24.291236101813,\n",
       " 'constantly': 24.29092640709852,\n",
       " 'current': 24.237945932645808,\n",
       " 'marriage': 24.196975465270437,\n",
       " 'knew': 24.181823972466802,\n",
       " 'suggestions': 24.18054986578234,\n",
       " 'random': 24.11091731330279,\n",
       " 'ready': 24.087075493592252,\n",
       " 'city': 24.0380743679236,\n",
       " 'confidence': 24.030969621347154,\n",
       " 'personality': 23.66933851013478,\n",
       " 'ok': 23.546202960834563,\n",
       " 'pregnant': 23.528979545438347,\n",
       " 'hand': 23.463730156588795,\n",
       " 'appreciate': 23.4285682525885,\n",
       " 'generally': 23.319838606104533,\n",
       " 'www': 23.298328070234874,\n",
       " 'public': 23.28551767828526,\n",
       " 'chance': 23.228537258075953,\n",
       " 'favourite': 23.13991680055202,\n",
       " 'took': 23.118900181024323,\n",
       " 'fact': 23.062672729515505,\n",
       " 'interesting': 23.059917591330414,\n",
       " 'smell': 23.047599440257063,\n",
       " 'negative': 23.03255494127673,\n",
       " 'extremely': 22.999234283799677,\n",
       " 'known': 22.940910967619704,\n",
       " 'sense': 22.925694425806338,\n",
       " 'outside': 22.884181061496093,\n",
       " 'kiss': 22.88320226550122,\n",
       " 'lose': 22.879952527364296,\n",
       " '18': 22.86310936410497,\n",
       " 'uncomfortable': 22.858535483138667,\n",
       " 'telling': 22.83223033314222,\n",
       " 'class': 22.826134940494963,\n",
       " 'expect': 22.771168586195166,\n",
       " 'specifically': 22.73394091534366,\n",
       " 'fine': 22.733613983221044,\n",
       " 'loved': 22.717710617208198,\n",
       " 'room': 22.716306969587983,\n",
       " 'strong': 22.695291036295437,\n",
       " 'shy': 22.57544452410369,\n",
       " 'drink': 22.56301827783845,\n",
       " 'games': 22.48254682190491,\n",
       " 'pick': 22.47728012223444,\n",
       " 'video': 22.425431546403637,\n",
       " 'texting': 22.37312627979795,\n",
       " 'sexually': 22.341496624722453,\n",
       " 'stand': 22.322011121850117,\n",
       " 'crazy': 22.267647569873084,\n",
       " 'penis': 22.250661806988177,\n",
       " 'experienced': 22.24420869926845,\n",
       " 'act': 22.20887288905324,\n",
       " 'car': 22.179690929647357,\n",
       " 'partners': 22.161834831568243,\n",
       " 'movies': 22.088315521351745,\n",
       " 'given': 21.978692074665076,\n",
       " 'instead': 21.97618224502328,\n",
       " 'course': 21.956525828924974,\n",
       " 'happens': 21.951112388177258,\n",
       " 'worried': 21.95099567872456,\n",
       " 'cope': 21.928095447493362,\n",
       " 'growing': 21.900997760629398,\n",
       " 'cool': 21.895240325077552,\n",
       " 'figure': 21.82150250475594,\n",
       " 'liked': 21.812787845164785,\n",
       " 'ass': 21.773984061753435,\n",
       " 'ugly': 21.677544146459717,\n",
       " 'country': 21.647648621363118,\n",
       " 'bar': 21.616712745278893,\n",
       " 'pictures': 21.59729063352018,\n",
       " 'respond': 21.514795673698746,\n",
       " 'taken': 21.374439194028334,\n",
       " 'gonna': 21.353577787828648,\n",
       " 'avoid': 21.35035149449562,\n",
       " 'plan': 21.32206712716965,\n",
       " 'affect': 21.22018358639962,\n",
       " 'specific': 21.15886116644066,\n",
       " 'beautiful': 21.138187884375323,\n",
       " 'book': 21.08969733823921,\n",
       " 'style': 21.052102884732427,\n",
       " 'honest': 20.9888063224572,\n",
       " 'eye': 20.978898482540174,\n",
       " '21': 20.927661155686522,\n",
       " 'considered': 20.89381745277742,\n",
       " 'couldn': 20.871990192553163,\n",
       " 'sub': 20.857802053349594,\n",
       " 'meeting': 20.84888937967422,\n",
       " 'low': 20.835341839211317,\n",
       " 'perspective': 20.817538645191256,\n",
       " 'afraid': 20.74966320583563,\n",
       " 'decide': 20.744635138720707,\n",
       " 'casual': 20.706722145123187,\n",
       " 'birth': 20.6912470342689,\n",
       " 'breakup': 20.626816146816463,\n",
       " 'works': 20.589951240116186,\n",
       " 'regret': 20.50074419578913,\n",
       " 'true': 20.45536613708581,\n",
       " 'words': 20.438583038393844,\n",
       " 'process': 20.424440571609676,\n",
       " 'wonder': 20.335822869300344,\n",
       " 'cold': 20.289175259215085,\n",
       " 'dress': 20.27918337812347,\n",
       " 'creepy': 20.258798086605857,\n",
       " 'flirting': 20.231143068427603,\n",
       " 'everyday': 20.18676292110178,\n",
       " 'huge': 20.148382277911555,\n",
       " 'situations': 20.138860237174804,\n",
       " 'instagram': 20.13392146717164,\n",
       " 'hanging': 20.124806874140727,\n",
       " 'trust': 20.100733269138487,\n",
       " 'problems': 20.073717262046877,\n",
       " 'support': 20.031388339713235,\n",
       " 'definitely': 20.01818212783077,\n",
       " 'drive': 19.99935682716228,\n",
       " 'signs': 19.99766550737121,\n",
       " 'baby': 19.989771982543857,\n",
       " 'area': 19.9894875167121,\n",
       " 'summer': 19.98846322064766,\n",
       " 'case': 19.977577541193355,\n",
       " 'fit': 19.943998274042826,\n",
       " 'easy': 19.90364146940675,\n",
       " 'longer': 19.87589807578204,\n",
       " 'realized': 19.837404120048937,\n",
       " 'vs': 19.80825910419039,\n",
       " 'scared': 19.804699195097307,\n",
       " 'fall': 19.79807190925444,\n",
       " 'means': 19.728413773704197,\n",
       " 'daily': 19.70380155125864,\n",
       " 'underwear': 19.694634927648945,\n",
       " 'business': 19.68248021653402,\n",
       " 'set': 19.61992563743225,\n",
       " 'health': 19.596034882492315,\n",
       " 'mental': 19.593363713909955,\n",
       " '20s': 19.564933151134404,\n",
       " 'remember': 19.507532230062058,\n",
       " 'physically': 19.496382618029617,\n",
       " 'tired': 19.466135737355064,\n",
       " 'adult': 19.462094369022573,\n",
       " 'significant': 19.440650082925444,\n",
       " 'emotionally': 19.436129734518083,\n",
       " 'looked': 19.380493646018028,\n",
       " 'terms': 19.364580569040587,\n",
       " 'wedding': 19.360941494662733,\n",
       " 'watching': 19.253632276286243,\n",
       " 'improve': 19.24451239052699,\n",
       " 'playing': 19.222637905220903,\n",
       " 'choose': 19.218919263616158,\n",
       " 'worked': 19.077066523609115,\n",
       " 'kid': 19.072382090713674,\n",
       " 'funny': 19.064825169411257,\n",
       " 'drunk': 19.000926986511583,\n",
       " 'difficult': 18.952867454731283,\n",
       " 'sleeping': 18.93789702306298,\n",
       " 'hello': 18.901406952003924,\n",
       " 'hands': 18.860748002655193,\n",
       " 'confident': 18.75580997852741,\n",
       " 'hasn': 18.726598007449148,\n",
       " 'distance': 18.726188681238792,\n",
       " 'insecure': 18.679035682866264,\n",
       " 'depression': 18.656098218254776,\n",
       " 'sad': 18.65182218813904,\n",
       " 'lives': 18.643663784226952,\n",
       " 'view': 18.626587774227794,\n",
       " 'shave': 18.605303320063904,\n",
       " 'nervous': 18.56063721196047,\n",
       " 'send': 18.56023239126106,\n",
       " 'answers': 18.540060005397663,\n",
       " 'height': 18.530857427171494,\n",
       " 'mother': 18.499819624064298,\n",
       " 'needs': 18.430643487620376,\n",
       " 'biggest': 18.425017149700633,\n",
       " 'wanting': 18.387376684666393,\n",
       " 'pants': 18.3643730468811,\n",
       " 'literally': 18.33409346602776,\n",
       " 'clean': 18.33156393020191,\n",
       " 'notice': 18.326450635537938,\n",
       " 'worse': 18.313240676177116,\n",
       " 'explain': 18.310571844996367,\n",
       " 'fat': 18.302337604774557,\n",
       " 'routine': 18.28360490487696,\n",
       " 'bother': 18.26841090706948,\n",
       " 'products': 18.2517380178721,\n",
       " 'perfect': 18.143928456652844,\n",
       " 'forward': 18.132882980485583,\n",
       " 'red': 18.096189895831678,\n",
       " 'shower': 18.029021211933234,\n",
       " 'cheated': 18.023991997548663,\n",
       " 'tend': 18.012923166021817,\n",
       " 'special': 17.995207643956295,\n",
       " 'fucking': 17.84442602251283,\n",
       " 'esteem': 17.836382371648387,\n",
       " 'rules': 17.79182519053964,\n",
       " 'thread': 17.761069984454913,\n",
       " 'exactly': 17.7574027421743,\n",
       " '23': 17.745778459656737,\n",
       " 'books': 17.692154320779235,\n",
       " 'stupid': 17.652549278880905,\n",
       " 'jobs': 17.604602757077114,\n",
       " 'beard': 17.564532298035925,\n",
       " 'plans': 17.556652823329358,\n",
       " 'based': 17.535314959930478,\n",
       " 'considering': 17.517029414596305,\n",
       " 'fight': 17.50556710804936,\n",
       " 'touch': 17.481410995688073,\n",
       " 'black': 17.467563673924218,\n",
       " 'gender': 17.45662638177903,\n",
       " 'amazing': 17.443861801402164,\n",
       " 'tv': 17.436082483273253,\n",
       " 'conversations': 17.42549919922532,\n",
       " 'brand': 17.38380986483529,\n",
       " '25': 17.344058754257194,\n",
       " 'level': 17.32130486087395,\n",
       " 'manage': 17.317026638035472,\n",
       " 'gave': 17.2758462374183,\n",
       " 'ive': 17.25546239794857,\n",
       " 'clear': 17.250998392444338,\n",
       " 'christmas': 17.229686157906254,\n",
       " 'drinking': 17.194764677491932,\n",
       " 'bf': 17.15426177299212,\n",
       " 'confused': 17.1263269559528,\n",
       " 'seriously': 17.108222818389002,\n",
       " 'advance': 17.10778342058608,\n",
       " 'busy': 17.102134777301586,\n",
       " 'easier': 17.10162847690774,\n",
       " 'imagine': 17.060203336018212,\n",
       " 'knows': 17.043860189116323,\n",
       " 'clothing': 17.001627981445274,\n",
       " 'attraction': 16.968946849046986,\n",
       " 'rejected': 16.964659304696436,\n",
       " 'gift': 16.856867426635517,\n",
       " 'fix': 16.807125442468347,\n",
       " 'fwb': 16.785552339249012,\n",
       " 'word': 16.698146843725713,\n",
       " 'bra': 16.679241108286398,\n",
       " 'inside': 16.672447684002666,\n",
       " 'healthy': 16.648492610692767,\n",
       " 'store': 16.630758008033766,\n",
       " 'obvious': 16.585312484137393,\n",
       " 'keeps': 16.582294518227815,\n",
       " 'facebook': 16.569766065752887,\n",
       " 'run': 16.55855709717033,\n",
       " 'office': 16.555256517834742,\n",
       " 'dinner': 16.54773161443991,\n",
       " 'hold': 16.513523136262002,\n",
       " 'shape': 16.47214920090813,\n",
       " 'eating': 16.44685754366844,\n",
       " 'line': 16.438205482815015,\n",
       " 'minutes': 16.40790559017432,\n",
       " 'totally': 16.388062893276814,\n",
       " 'picture': 16.36807584379946,\n",
       " 'compliment': 16.34428762239954,\n",
       " 'genuinely': 16.313849647551343,\n",
       " 'idk': 16.30478645738735,\n",
       " 'shirt': 16.25318978269628,\n",
       " 'regular': 16.24334212521363,\n",
       " 'apps': 16.242649009399713,\n",
       " 'position': 16.228770772023278,\n",
       " 'putting': 16.22251066714872,\n",
       " 'boy': 16.218290966707492,\n",
       " 'context': 16.21055983566696,\n",
       " 'bathroom': 16.16974611273958,\n",
       " 'major': 16.15685345734522,\n",
       " '22': 16.144545755955967,\n",
       " 'shows': 16.126221183101485,\n",
       " 'sister': 16.12013027743875,\n",
       " 'effort': 16.094614423635107,\n",
       " 'decision': 16.01219479548908,\n",
       " 'unattractive': 15.995240358573925,\n",
       " 'places': 15.93341896981122,\n",
       " 'walk': 15.932062704574781,\n",
       " 'eventually': 15.909319495329173,\n",
       " 'response': 15.889169417984341,\n",
       " 'heart': 15.837694966240987,\n",
       " 'truly': 15.792367958864256,\n",
       " 'willing': 15.751732310392939,\n",
       " 'potential': 15.715731805094627,\n",
       " 'knowing': 15.661348764306894,\n",
       " 'fear': 15.643181587178109,\n",
       " 'multiple': 15.63691147476938,\n",
       " 'friendly': 15.636396670515593,\n",
       " 'terrible': 15.616127491806145,\n",
       " 'appearance': 15.597518796559871,\n",
       " 'grow': 15.575282291469549,\n",
       " 'hour': 15.508766414944454,\n",
       " 'respect': 15.476927012153928,\n",
       " 'follow': 15.440121467574299,\n",
       " 'eyes': 15.436481905233537,\n",
       " 'spent': 15.436474169242327,\n",
       " 'posts': 15.419359746968734,\n",
       " 'examples': 15.418205586268156,\n",
       " 'yesterday': 15.412085952899059,\n",
       " 'sitting': 15.409173293934415,\n",
       " 'apart': 15.374225210339754,\n",
       " 'strange': 15.365000045932785,\n",
       " 'boobs': 15.361568378565629,\n",
       " '17': 15.356792607924213,\n",
       " 'middle': 15.342353460498884,\n",
       " 'texts': 15.333429954460197,\n",
       " 'dream': 15.291952940559426,\n",
       " 'kept': 15.285285975836048,\n",
       " 'helped': 15.24753080673646,\n",
       " 'lots': 15.234426314072806,\n",
       " 'quickly': 15.203785299929127,\n",
       " 'order': 15.202627614500706,\n",
       " 'posted': 15.195487912376192,\n",
       " 'supposed': 15.195255124572665,\n",
       " 'treat': 15.138877147332277,\n",
       " 'lady': 15.133750967788664,\n",
       " 'space': 15.127224482403959,\n",
       " 'pics': 15.124337031167462,\n",
       " 'sweet': 15.088694347693037,\n",
       " 'fairly': 15.080934288626745,\n",
       " '24': 15.048126284603303,\n",
       " 'excited': 15.020931837620592,\n",
       " 'sports': 15.019565150551506,\n",
       " 'cum': 15.012540293721244,\n",
       " 'smile': 14.995881183931623,\n",
       " 'simply': 14.960335499473295,\n",
       " 'bought': 14.957020237848122,\n",
       " 'color': 14.949394008271227,\n",
       " 'likely': 14.915801763393278,\n",
       " 'related': 14.870166815531139,\n",
       " 'loves': 14.841088537644122,\n",
       " 'depressed': 14.820687881986174,\n",
       " 'thinks': 14.814108074744066,\n",
       " '19': 14.803879111536025,\n",
       " 'angry': 14.799219323315395,\n",
       " 'boring': 14.794287623557675,\n",
       " 'ideal': 14.79023530211354,\n",
       " 'welcome': 14.77060662450782,\n",
       " 'orgasm': 14.765178671925401,\n",
       " 'whats': 14.754089009041714,\n",
       " 'extra': 14.737458525029627,\n",
       " 'town': 14.72613081847884,\n",
       " 'upset': 14.70442751783241,\n",
       " 'tells': 14.701016288864714,\n",
       " 'jeans': 14.682062289909174,\n",
       " 'miss': 14.6603619171537,\n",
       " 'emotions': 14.627838719942845,\n",
       " 'losing': 14.605780157696238,\n",
       " 'wash': 14.569867755764179,\n",
       " 'absolutely': 14.497212631292108,\n",
       " 'stress': 14.478754988860773,\n",
       " 'legs': 14.43880523945323,\n",
       " 'overcome': 14.416142107311064,\n",
       " 'sound': 14.403747509129797,\n",
       " 'reaction': 14.390843344737762,\n",
       " 'pee': 14.372777499716932,\n",
       " 'photos': 14.369734271191483,\n",
       " 'birthday': 14.367185449906327,\n",
       " 'coffee': 14.3596057619599,\n",
       " 'annoying': 14.311511669719355,\n",
       " 'buying': 14.29624839849519,\n",
       " 'bonus': 14.288571267411635,\n",
       " 'rest': 14.209552591227927,\n",
       " 'nsfw': 14.197371250697039,\n",
       " 'sent': 14.195274421062084,\n",
       " 'running': 14.175697895084697,\n",
       " 'changes': 14.146041271756243,\n",
       " 'skinny': 14.13812402523206,\n",
       " 'asks': 14.134634168226668,\n",
       " 'lonely': 14.118649926573326,\n",
       " 'club': 14.105566831850423,\n",
       " 'apartment': 14.103573955733559,\n",
       " 'light': 14.096496825428435,\n",
       " 'hoping': 14.045368244420498,\n",
       " '15': 14.032780652725735,\n",
       " 'surgery': 14.005647258359257,\n",
       " 'particularly': 13.996410750347255,\n",
       " 'speak': 13.986261211769497,\n",
       " 'choice': 13.983746850985451,\n",
       " 'broken': 13.965268312482847,\n",
       " 'hearing': 13.927346296920673,\n",
       " 'aware': 13.92441830231181,\n",
       " 'compliments': 13.916996669626686,\n",
       " 'stopped': 13.914035372305893,\n",
       " 'language': 13.910598388029232,\n",
       " 'offer': 13.89277955126473,\n",
       " 'fast': 13.875313544596867,\n",
       " 'walking': 13.853271834580738,\n",
       " 'university': 13.831765785970621,\n",
       " 'lack': 13.822400622512747,\n",
       " 'trouble': 13.81863779272231,\n",
       " 'step': 13.805268027192605,\n",
       " 'hell': 13.785354499275812,\n",
       " 'large': 13.766182730699274,\n",
       " 'texted': 13.75342570922342,\n",
       " 'natural': 13.740977136680474,\n",
       " 'pregnancy': 13.73690012024774,\n",
       " 'sit': 13.693535004084984,\n",
       " 'flag': 13.681953029241923,\n",
       " 'app': 13.662723328237952,\n",
       " 'sensitive': 13.656942205918194,\n",
       " 'recommendations': 13.656446448017881,\n",
       " 'continue': 13.645575057636268,\n",
       " '100': 13.63921272997933,\n",
       " 'assume': 13.626989192985766,\n",
       " 'professional': 13.61491097392859,\n",
       " 'paying': 13.610894222092764,\n",
       " 'comment': 13.60811996424775,\n",
       " 'barely': 13.5997472818861,\n",
       " 'dudes': 13.547089366128985,\n",
       " 'needed': 13.542696416293268,\n",
       " 'topic': 13.541566975312278,\n",
       " 'ring': 13.499965978796954,\n",
       " 'virgin': 13.489190219945836,\n",
       " 'successful': 13.46566236645396,\n",
       " 'feet': 13.463886166596435,\n",
       " 'fellow': 13.46250596350053,\n",
       " 'differently': 13.45920203087676,\n",
       " 'joke': 13.456684202817808,\n",
       " 'list': 13.449483055159588,\n",
       " 'breaking': 13.443163098378488,\n",
       " 'fashion': 13.427832728185509,\n",
       " 'intimate': 13.422740190669524,\n",
       " 'mutual': 13.421416383063734,\n",
       " 'company': 13.418541155604895,\n",
       " 'responses': 13.413593213053648,\n",
       " 'sounds': 13.407393116028894,\n",
       " 'previous': 13.368983569875999,\n",
       " 'hook': 13.360977093314386,\n",
       " 'brother': 13.353089217001163,\n",
       " 'struggle': 13.344388869300559,\n",
       " 'rid': 13.34293246598055,\n",
       " 'friendships': 13.328607728393003,\n",
       " 'mid': 13.324725760818719,\n",
       " 'state': 13.313786015389873,\n",
       " 'quality': 13.303339828458718,\n",
       " 'behavior': 13.301436442597282,\n",
       " 'types': 13.276318576609862,\n",
       " 'reply': 13.275261761305142,\n",
       " 'mention': 13.270966208851384,\n",
       " 'water': 13.265907161135619,\n",
       " 'inspired': 13.181203356430405,\n",
       " 'happening': 13.174398121583375,\n",
       " 'worry': 13.157203375641336,\n",
       " 'learned': 13.151247809465431,\n",
       " 'student': 13.10009398320425,\n",
       " 'lead': 13.088158207140197,\n",
       " 'pass': 13.071774040762314,\n",
       " 'immediately': 13.06779161362296,\n",
       " 'add': 13.0155593761537,\n",
       " 'weren': 13.003608368535913,\n",
       " 'decent': 12.999431823746585,\n",
       " 'approached': 12.935218380843294,\n",
       " 'stuck': 12.925743100250047,\n",
       " 'tall': 12.874722068587005,\n",
       " 'planning': 12.8719706837969,\n",
       " 'deep': 12.868419324416433,\n",
       " 'monday': 12.860200015535689,\n",
       " 'keeping': 12.844417583472639,\n",
       " 'daughter': 12.84191211176167,\n",
       " 'safe': 12.814599084767146,\n",
       " 'hobby': 12.789499587543597,\n",
       " 'balls': 12.779822761395476,\n",
       " 'shoes': 12.758381214320508,\n",
       " 'twice': 12.741419266107162,\n",
       " 'mood': 12.735227655799086,\n",
       " 'leaving': 12.712436625182958,\n",
       " 'involved': 12.710334244513852,\n",
       " 'character': 12.692031295248597,\n",
       " 'mad': 12.686806873657043,\n",
       " 'dealing': 12.676810090629253,\n",
       " 'spending': 12.668922914354324,\n",
       " 'bored': 12.662041168860808,\n",
       " 'dealt': 12.64642994147015,\n",
       " 'struggling': 12.642344082974716,\n",
       " 'society': 12.613999615775375,\n",
       " 'tomorrow': 12.601029815783614,\n",
       " 'event': 12.600453257119176,\n",
       " 'degree': 12.594763687030579,\n",
       " 'son': 12.594686485787168,\n",
       " 'include': 12.563909206038542,\n",
       " 'note': 12.507895753312276,\n",
       " 'simple': 12.503653102097203,\n",
       " 'typically': 12.495037262213465,\n",
       " 'stranger': 12.47682923823714,\n",
       " 'shop': 12.471579904106871,\n",
       " 'rarely': 12.44567869033066,\n",
       " 'boys': 12.436651726098827,\n",
       " 'song': 12.426522702749006,\n",
       " 'ghosted': 12.42211437168836,\n",
       " 'driving': 12.395290117595492,\n",
       " 'socially': 12.350953877119458,\n",
       " 'normally': 12.318970195161324,\n",
       " 'bras': 12.298638994625204,\n",
       " 'opposite': 12.269152197041693,\n",
       " 'posting': 12.255459117555986,\n",
       " 'odd': 12.239249441879132,\n",
       " 'messages': 12.225896024054329,\n",
       " 'helpful': 12.223709429489517,\n",
       " 'save': 12.219227333175816,\n",
       " 'interests': 12.215630203247585,\n",
       " 'effect': 12.19896350226855,\n",
       " 'sick': 12.197119877909664,\n",
       " 'somewhat': 12.192495476989764,\n",
       " 'drinks': 12.177971766680862,\n",
       " 'dr': 12.16505682757859,\n",
       " 'missing': 12.163682893467861,\n",
       " 'lived': 12.161326166548491,\n",
       " 'shouldn': 12.132269397688624,\n",
       " 'abusive': 12.11579728298109,\n",
       " 'entire': 12.10167969827095,\n",
       " 'secret': 12.101571243203075,\n",
       " 'focus': 12.094789198159331,\n",
       " 'quick': 12.064030149359597,\n",
       " 'apparently': 12.038189030353937,\n",
       " 'turns': 12.036276454984964,\n",
       " 'awesome': 12.034547724911821,\n",
       " 'affected': 12.02776152797502,\n",
       " 'chat': 12.02182652384877,\n",
       " 'conscious': 12.012596562013512,\n",
       " 'anybody': 11.998536978390055,\n",
       " 'females': 11.97406913631875,\n",
       " 'romantically': 11.97078141218305,\n",
       " 'figured': 11.964560326645262,\n",
       " 'condom': 11.961920205180597,\n",
       " 'test': 11.958270758717571,\n",
       " 'pull': 11.952512548018321,\n",
       " 'dog': 11.95189193587771,\n",
       " 'recent': 11.91469056401247,\n",
       " 'pet': 11.907442179477085,\n",
       " 'easily': 11.900179338046826,\n",
       " 'accept': 11.884323011102305,\n",
       " 'girlfriends': 11.865677854834548,\n",
       " 'check': 11.860308155614339,\n",
       " 'culture': 11.853745637857685,\n",
       " 'slightly': 11.843442422271885,\n",
       " 'write': 11.828664037868657,\n",
       " 'assuming': 11.82758762507791,\n",
       " 'yeah': 11.825883543441543,\n",
       " 'internet': 11.781700700853715,\n",
       " 'plus': 11.768016410213011,\n",
       " 'therapy': 11.756214256981668,\n",
       " 'platonic': 11.737202368534769,\n",
       " 'impact': 11.733885937866697,\n",
       " 'names': 11.720697133626036,\n",
       " 'actual': 11.707964036143473,\n",
       " 'details': 11.698435034392787,\n",
       " '26': 11.681696185093049,\n",
       " 'hitting': 11.656070588712435,\n",
       " 'holding': 11.652964088359976,\n",
       " 'flat': 11.625679621870951,\n",
       " 'embarrassing': 11.621896245230499,\n",
       " 'gives': 11.619858429266733,\n",
       " 'dry': 11.613142083494566,\n",
       " 'mate': 11.601426598209787,\n",
       " 'views': 11.601204718729607,\n",
       " 'kissing': 11.592117606079025,\n",
       " 'masturbate': 11.574771725759273,\n",
       " 'caught': 11.574157219128738,\n",
       " 'build': 11.560792720184182,\n",
       " 'suddenly': 11.540919963943304,\n",
       " 'starts': 11.529391943020105,\n",
       " 'rough': 11.523259456208496,\n",
       " 'anxious': 11.506438012933485,\n",
       " 'mistake': 11.505779346660793,\n",
       " 'despite': 11.496905547620441,\n",
       " 'success': 11.493605693060069,\n",
       " 'coworker': 11.47647793529843,\n",
       " 'listen': 11.476335929365185,\n",
       " '50': 11.472565939676587,\n",
       " 'discussion': 11.46736103398808,\n",
       " 'beginning': 11.44889219975793,\n",
       " 'particular': 11.44052131475247,\n",
       " 'including': 11.42633196994321,\n",
       " 'cat': 11.422394951240822,\n",
       " 'slept': 11.413997894265728,\n",
       " 'calling': 11.408011480045758,\n",
       " 'habit': 11.373155136221925,\n",
       " 'snapchat': 11.362285816619472,\n",
       " 'butt': 11.330531031226124,\n",
       " 'profile': 11.324688659239644,\n",
       " 'length': 11.308837488049697,\n",
       " 'periods': 11.295008749333162,\n",
       " 'breasts': 11.26122950768156,\n",
       " 'tonight': 11.234395257682388,\n",
       " 'frequently': 11.233402240280235,\n",
       " '40': 11.180294684418463,\n",
       " 'bunch': 11.171568306768762,\n",
       " 'cheating': 11.165667811177585,\n",
       " 'fake': 11.16158846110618,\n",
       " 'acceptable': 11.153250531050546,\n",
       " 'jealous': 11.150597232177578,\n",
       " 'desperate': 11.129307357187594,\n",
       " 'takes': 11.099629912264225,\n",
       " 'hug': 11.079739323638696,\n",
       " 'received': 11.071639926395447,\n",
       " 'qualities': 11.065047910192634,\n",
       " 'strangers': 11.043429413007534,\n",
       " 'trip': 11.0342621682755,\n",
       " 'clearly': 11.024554040882308,\n",
       " ...}"
      ]
     },
     "execution_count": 74,
     "metadata": {},
     "output_type": "execute_result"
    }
   ],
   "source": [
    "sorted_feat_matrix"
   ]
  },
  {
   "cell_type": "code",
   "execution_count": 77,
   "metadata": {},
   "outputs": [
    {
     "data": {
      "text/plain": [
       "0    i'm curious as to what draws in the average pe...\n",
       "1    just for context this is my first time using a...\n",
       "2    i'm not trying to offend anyone i just want to...\n",
       "3    gf found out i use mine on my whole body and s...\n",
       "4    or is it time to go joe rogan on this shit wha...\n",
       "Name: joint_words, dtype: object"
      ]
     },
     "execution_count": 77,
     "metadata": {},
     "output_type": "execute_result"
    }
   ],
   "source": [
    "all_posts[all_posts['target']==0]['joint_words'].head()"
   ]
  },
  {
   "cell_type": "code",
   "execution_count": 18,
   "metadata": {},
   "outputs": [],
   "source": [
    "vectorizer = TfidfVectorizer(stop_words='english')\n",
    "ask_men_features = vectorizer.fit_transform(all_posts[all_posts['target']==0]['joint_words'])\n",
    "ask_men_features = ask_men_features.toarray()"
   ]
  },
  {
   "cell_type": "code",
   "execution_count": 19,
   "metadata": {},
   "outputs": [],
   "source": [
    "men_feat_df = pd.DataFrame(ask_men_features)\n",
    "\n",
    "features = vectorizer.get_feature_names()\n",
    "\n",
    "men_feat_matrix = {}\n",
    "for k, v in enumerate(features):\n",
    "    men_feat_matrix[v] = men_feat_df[k].sum()\n",
    "\n",
    "sorted_men_feat_names = sorted(men_feat_matrix, key= lambda key: abs(men_feat_matrix[key]), reverse=True)\n",
    "\n",
    "sorted_men_feat_matrix = {}\n",
    "for k, v in enumerate(sorted_men_feat_names):\n",
    "    sorted_men_feat_matrix[v] = men_feat_matrix[v]\n",
    "    if k > 20:\n",
    "        break"
   ]
  },
  {
   "cell_type": "code",
   "execution_count": 20,
   "metadata": {},
   "outputs": [
    {
     "data": {
      "text/plain": [
       "{'like': 801.3671221524623,\n",
       " 'just': 752.754763663776,\n",
       " 've': 557.3251895045483,\n",
       " 'don': 556.2314385035563,\n",
       " 'know': 544.2845798858851,\n",
       " 'men': 523.0406071198464,\n",
       " 'feel': 510.0716886999335,\n",
       " 'want': 495.84873163685086,\n",
       " 'girl': 487.26495790519346,\n",
       " 'guys': 476.0762625280129,\n",
       " 'really': 474.58116523369426,\n",
       " 'time': 474.41715270365955,\n",
       " 'did': 428.4023562635126,\n",
       " 'friends': 426.0892613805079,\n",
       " 'think': 406.95990190894497,\n",
       " 'guy': 378.8184142647032,\n",
       " 'women': 376.6037746188802,\n",
       " 'relationship': 369.5339492231892,\n",
       " 'sex': 363.04685096114576,\n",
       " 'people': 360.30937999482364,\n",
       " 'good': 322.7727943153018,\n",
       " 'life': 321.7424408424861}"
      ]
     },
     "execution_count": 20,
     "metadata": {},
     "output_type": "execute_result"
    }
   ],
   "source": [
    "sorted_men_feat_matrix"
   ]
  },
  {
   "cell_type": "code",
   "execution_count": 21,
   "metadata": {},
   "outputs": [
    {
     "data": {
      "text/html": [
       "<div>\n",
       "<style scoped>\n",
       "    .dataframe tbody tr th:only-of-type {\n",
       "        vertical-align: middle;\n",
       "    }\n",
       "\n",
       "    .dataframe tbody tr th {\n",
       "        vertical-align: top;\n",
       "    }\n",
       "\n",
       "    .dataframe thead th {\n",
       "        text-align: right;\n",
       "    }\n",
       "</style>\n",
       "<table border=\"1\" class=\"dataframe\">\n",
       "  <thead>\n",
       "    <tr style=\"text-align: right;\">\n",
       "      <th></th>\n",
       "      <th>0</th>\n",
       "    </tr>\n",
       "  </thead>\n",
       "  <tbody>\n",
       "    <tr>\n",
       "      <th>like</th>\n",
       "      <td>801.367122</td>\n",
       "    </tr>\n",
       "    <tr>\n",
       "      <th>just</th>\n",
       "      <td>752.754764</td>\n",
       "    </tr>\n",
       "    <tr>\n",
       "      <th>ve</th>\n",
       "      <td>557.325190</td>\n",
       "    </tr>\n",
       "    <tr>\n",
       "      <th>don</th>\n",
       "      <td>556.231439</td>\n",
       "    </tr>\n",
       "    <tr>\n",
       "      <th>know</th>\n",
       "      <td>544.284580</td>\n",
       "    </tr>\n",
       "    <tr>\n",
       "      <th>men</th>\n",
       "      <td>523.040607</td>\n",
       "    </tr>\n",
       "    <tr>\n",
       "      <th>feel</th>\n",
       "      <td>510.071689</td>\n",
       "    </tr>\n",
       "    <tr>\n",
       "      <th>want</th>\n",
       "      <td>495.848732</td>\n",
       "    </tr>\n",
       "    <tr>\n",
       "      <th>girl</th>\n",
       "      <td>487.264958</td>\n",
       "    </tr>\n",
       "    <tr>\n",
       "      <th>guys</th>\n",
       "      <td>476.076263</td>\n",
       "    </tr>\n",
       "    <tr>\n",
       "      <th>really</th>\n",
       "      <td>474.581165</td>\n",
       "    </tr>\n",
       "    <tr>\n",
       "      <th>time</th>\n",
       "      <td>474.417153</td>\n",
       "    </tr>\n",
       "    <tr>\n",
       "      <th>did</th>\n",
       "      <td>428.402356</td>\n",
       "    </tr>\n",
       "    <tr>\n",
       "      <th>friends</th>\n",
       "      <td>426.089261</td>\n",
       "    </tr>\n",
       "    <tr>\n",
       "      <th>think</th>\n",
       "      <td>406.959902</td>\n",
       "    </tr>\n",
       "    <tr>\n",
       "      <th>guy</th>\n",
       "      <td>378.818414</td>\n",
       "    </tr>\n",
       "    <tr>\n",
       "      <th>women</th>\n",
       "      <td>376.603775</td>\n",
       "    </tr>\n",
       "    <tr>\n",
       "      <th>relationship</th>\n",
       "      <td>369.533949</td>\n",
       "    </tr>\n",
       "    <tr>\n",
       "      <th>sex</th>\n",
       "      <td>363.046851</td>\n",
       "    </tr>\n",
       "    <tr>\n",
       "      <th>people</th>\n",
       "      <td>360.309380</td>\n",
       "    </tr>\n",
       "    <tr>\n",
       "      <th>good</th>\n",
       "      <td>322.772794</td>\n",
       "    </tr>\n",
       "    <tr>\n",
       "      <th>life</th>\n",
       "      <td>321.742441</td>\n",
       "    </tr>\n",
       "  </tbody>\n",
       "</table>\n",
       "</div>"
      ],
      "text/plain": [
       "                       0\n",
       "like          801.367122\n",
       "just          752.754764\n",
       "ve            557.325190\n",
       "don           556.231439\n",
       "know          544.284580\n",
       "men           523.040607\n",
       "feel          510.071689\n",
       "want          495.848732\n",
       "girl          487.264958\n",
       "guys          476.076263\n",
       "really        474.581165\n",
       "time          474.417153\n",
       "did           428.402356\n",
       "friends       426.089261\n",
       "think         406.959902\n",
       "guy           378.818414\n",
       "women         376.603775\n",
       "relationship  369.533949\n",
       "sex           363.046851\n",
       "people        360.309380\n",
       "good          322.772794\n",
       "life          321.742441"
      ]
     },
     "execution_count": 21,
     "metadata": {},
     "output_type": "execute_result"
    }
   ],
   "source": [
    "keys = [i for i in sorted_men_feat_matrix.keys()]\n",
    "\n",
    "values = [i for i in sorted_men_feat_matrix.values()]\n",
    "\n",
    "men_words_df = pd.DataFrame(values, keys)\n",
    "\n",
    "men_words_df"
   ]
  },
  {
   "cell_type": "code",
   "execution_count": 48,
   "metadata": {},
   "outputs": [
    {
     "data": {
      "image/png": "[encoded data removed]",
      "text/plain": [
       "<Figure size 288x360 with 1 Axes>"
      ]
     },
     "metadata": {
      "needs_background": "light"
     },
     "output_type": "display_data"
    }
   ],
   "source": [
    "plt.figure(figsize=(4, 5))\n",
    "plt.barh(men_words_df.index, men_words_df[0])\n",
    "plt.title('Frequent AskMen Words');"
   ]
  },
  {
   "cell_type": "code",
   "execution_count": 32,
   "metadata": {},
   "outputs": [],
   "source": [
    "vectorizer = TfidfVectorizer(stop_words='english')\n",
    "ask_women_features = vectorizer.fit_transform(all_posts[all_posts['target']==1]['joint_words'])\n",
    "ask_women_features = ask_women_features.toarray()"
   ]
  },
  {
   "cell_type": "code",
   "execution_count": 33,
   "metadata": {},
   "outputs": [],
   "source": [
    "women_feat_df = pd.DataFrame(ask_women_features)\n",
    "\n",
    "features = vectorizer.get_feature_names()\n",
    "\n",
    "women_feat_matrix = {}\n",
    "for k, v in enumerate(features):\n",
    "    women_feat_matrix[v] = women_feat_df[k].sum()\n",
    "\n",
    "sorted_women_feat_names = sorted(women_feat_matrix, key= lambda key: abs(women_feat_matrix[key]), reverse=True)\n",
    "\n",
    "sorted_women_feat_matrix = {}\n",
    "for k, v in enumerate(sorted_women_feat_names):\n",
    "    sorted_women_feat_matrix[v] = women_feat_matrix[v]\n",
    "    if k > 20:\n",
    "        break"
   ]
  },
  {
   "cell_type": "code",
   "execution_count": 34,
   "metadata": {},
   "outputs": [
    {
     "data": {
      "text/plain": [
       "{'like': 655.1718373949282,\n",
       " 'women': 620.0855634444695,\n",
       " 'did': 576.4478892504457,\n",
       " 'just': 526.1305288158505,\n",
       " 'feel': 449.1867796270585,\n",
       " 've': 405.074701212033,\n",
       " 'know': 388.77094074688443,\n",
       " 'think': 377.04396384647424,\n",
       " 'don': 362.6867309021185,\n",
       " 'want': 351.98225361950864,\n",
       " 'time': 339.63208004706826,\n",
       " 'guy': 326.05946242433134,\n",
       " 'people': 317.2701725278543,\n",
       " 'ladies': 304.6604297196682,\n",
       " 'really': 294.72923581826063,\n",
       " 'men': 290.21619259609736,\n",
       " 'does': 289.9494790588536,\n",
       " 'love': 287.06640641055367,\n",
       " 'relationship': 285.0506870460792,\n",
       " 'make': 279.30308699501165,\n",
       " 'things': 264.7768572008871,\n",
       " 'life': 262.8646869875396}"
      ]
     },
     "execution_count": 34,
     "metadata": {},
     "output_type": "execute_result"
    }
   ],
   "source": [
    "sorted_women_feat_matrix"
   ]
  },
  {
   "cell_type": "code",
   "execution_count": 35,
   "metadata": {},
   "outputs": [
    {
     "data": {
      "text/html": [
       "<div>\n",
       "<style scoped>\n",
       "    .dataframe tbody tr th:only-of-type {\n",
       "        vertical-align: middle;\n",
       "    }\n",
       "\n",
       "    .dataframe tbody tr th {\n",
       "        vertical-align: top;\n",
       "    }\n",
       "\n",
       "    .dataframe thead th {\n",
       "        text-align: right;\n",
       "    }\n",
       "</style>\n",
       "<table border=\"1\" class=\"dataframe\">\n",
       "  <thead>\n",
       "    <tr style=\"text-align: right;\">\n",
       "      <th></th>\n",
       "      <th>0</th>\n",
       "    </tr>\n",
       "  </thead>\n",
       "  <tbody>\n",
       "    <tr>\n",
       "      <th>like</th>\n",
       "      <td>655.171837</td>\n",
       "    </tr>\n",
       "    <tr>\n",
       "      <th>women</th>\n",
       "      <td>620.085563</td>\n",
       "    </tr>\n",
       "    <tr>\n",
       "      <th>did</th>\n",
       "      <td>576.447889</td>\n",
       "    </tr>\n",
       "    <tr>\n",
       "      <th>just</th>\n",
       "      <td>526.130529</td>\n",
       "    </tr>\n",
       "    <tr>\n",
       "      <th>feel</th>\n",
       "      <td>449.186780</td>\n",
       "    </tr>\n",
       "    <tr>\n",
       "      <th>ve</th>\n",
       "      <td>405.074701</td>\n",
       "    </tr>\n",
       "    <tr>\n",
       "      <th>know</th>\n",
       "      <td>388.770941</td>\n",
       "    </tr>\n",
       "    <tr>\n",
       "      <th>think</th>\n",
       "      <td>377.043964</td>\n",
       "    </tr>\n",
       "    <tr>\n",
       "      <th>don</th>\n",
       "      <td>362.686731</td>\n",
       "    </tr>\n",
       "    <tr>\n",
       "      <th>want</th>\n",
       "      <td>351.982254</td>\n",
       "    </tr>\n",
       "    <tr>\n",
       "      <th>time</th>\n",
       "      <td>339.632080</td>\n",
       "    </tr>\n",
       "    <tr>\n",
       "      <th>guy</th>\n",
       "      <td>326.059462</td>\n",
       "    </tr>\n",
       "    <tr>\n",
       "      <th>people</th>\n",
       "      <td>317.270173</td>\n",
       "    </tr>\n",
       "    <tr>\n",
       "      <th>ladies</th>\n",
       "      <td>304.660430</td>\n",
       "    </tr>\n",
       "    <tr>\n",
       "      <th>really</th>\n",
       "      <td>294.729236</td>\n",
       "    </tr>\n",
       "    <tr>\n",
       "      <th>men</th>\n",
       "      <td>290.216193</td>\n",
       "    </tr>\n",
       "    <tr>\n",
       "      <th>does</th>\n",
       "      <td>289.949479</td>\n",
       "    </tr>\n",
       "    <tr>\n",
       "      <th>love</th>\n",
       "      <td>287.066406</td>\n",
       "    </tr>\n",
       "    <tr>\n",
       "      <th>relationship</th>\n",
       "      <td>285.050687</td>\n",
       "    </tr>\n",
       "    <tr>\n",
       "      <th>make</th>\n",
       "      <td>279.303087</td>\n",
       "    </tr>\n",
       "    <tr>\n",
       "      <th>things</th>\n",
       "      <td>264.776857</td>\n",
       "    </tr>\n",
       "    <tr>\n",
       "      <th>life</th>\n",
       "      <td>262.864687</td>\n",
       "    </tr>\n",
       "  </tbody>\n",
       "</table>\n",
       "</div>"
      ],
      "text/plain": [
       "                       0\n",
       "like          655.171837\n",
       "women         620.085563\n",
       "did           576.447889\n",
       "just          526.130529\n",
       "feel          449.186780\n",
       "ve            405.074701\n",
       "know          388.770941\n",
       "think         377.043964\n",
       "don           362.686731\n",
       "want          351.982254\n",
       "time          339.632080\n",
       "guy           326.059462\n",
       "people        317.270173\n",
       "ladies        304.660430\n",
       "really        294.729236\n",
       "men           290.216193\n",
       "does          289.949479\n",
       "love          287.066406\n",
       "relationship  285.050687\n",
       "make          279.303087\n",
       "things        264.776857\n",
       "life          262.864687"
      ]
     },
     "execution_count": 35,
     "metadata": {},
     "output_type": "execute_result"
    }
   ],
   "source": [
    "women_keys = [i for i in sorted_women_feat_matrix.keys()]\n",
    "\n",
    "women_values = [i for i in sorted_women_feat_matrix.values()]\n",
    "\n",
    "women_words_df = pd.DataFrame(women_values, women_keys)\n",
    "\n",
    "women_words_df"
   ]
  },
  {
   "cell_type": "code",
   "execution_count": 97,
   "metadata": {},
   "outputs": [
    {
     "data": {
      "text/plain": [
       "Text(0.5, 1.0, 'Frequent AskWomen Words')"
      ]
     },
     "execution_count": 97,
     "metadata": {},
     "output_type": "execute_result"
    },
    {
     "data": {
      "image/png": "[encoded data removed]",
      "text/plain": [
       "<Figure size 432x288 with 1 Axes>"
      ]
     },
     "metadata": {
      "needs_background": "light"
     },
     "output_type": "display_data"
    }
   ],
   "source": [
    "plt.barh(women_words_df.index, women_words_df[0])\n",
    "plt.title('Frequent AskWomen Words')"
   ]
  },
  {
   "cell_type": "markdown",
   "metadata": {},
   "source": [
    "## Classification Metrics"
   ]
  },
  {
   "cell_type": "code",
   "execution_count": 25,
   "metadata": {},
   "outputs": [],
   "source": [
    "predicted = rf.predict(X_test_features)\n",
    "\n",
    "metrics_df = pd.DataFrame({'actual': y_test, 'predicted': predicted})\n",
    "\n",
    "metrics_df['true_positive'] = metrics_df.apply(lambda x: 1 if (x['actual']==1) & (x['predicted']==1) else 0, axis=1)\n",
    "\n",
    "metrics_df['true_negative'] = metrics_df.apply(lambda x: 1 if (x['actual']==0) & (x['predicted']==0) else 0, axis=1)\n",
    "\n",
    "metrics_df['false_positive'] = metrics_df.apply(lambda x: 1 if (x['actual']==0) & (x['predicted']==1) else 0, axis=1)\n",
    "\n",
    "metrics_df['false_negative'] = metrics_df.apply(lambda x: 1 if (x['actual']==1) & (x['predicted']==0) else 0, axis=1)\n",
    "\n",
    "accuracy = (metrics_df['true_positive'].sum() + metrics_df['true_negative'].sum()) / len(metrics_df)\n",
    "\n",
    "misclassification_rate = (metrics_df['false_positive'].sum() + metrics_df['false_negative'].sum()) / len(metrics_df)\n",
    "\n",
    "sensitivity = metrics_df['true_positive'].sum() / (metrics_df['true_positive'].sum() + metrics_df['false_negative'].sum())\n",
    "\n",
    "specificity = metrics_df['true_negative'].sum() / (metrics_df['true_negative'].sum() + metrics_df['false_positive'].sum())\n",
    "\n",
    "precision = metrics_df['true_positive'].sum() / (metrics_df['true_positive'].sum() + metrics_df['false_positive'].sum())"
   ]
  },
  {
   "cell_type": "code",
   "execution_count": 26,
   "metadata": {},
   "outputs": [
    {
     "data": {
      "text/plain": [
       "0.7466016312170158"
      ]
     },
     "execution_count": 26,
     "metadata": {},
     "output_type": "execute_result"
    }
   ],
   "source": [
    "accuracy"
   ]
  },
  {
   "cell_type": "code",
   "execution_count": 27,
   "metadata": {},
   "outputs": [
    {
     "data": {
      "text/plain": [
       "0.25339836878298416"
      ]
     },
     "execution_count": 27,
     "metadata": {},
     "output_type": "execute_result"
    }
   ],
   "source": [
    "misclassification_rate"
   ]
  },
  {
   "cell_type": "code",
   "execution_count": 28,
   "metadata": {},
   "outputs": [
    {
     "data": {
      "text/plain": [
       "0.75728"
      ]
     },
     "execution_count": 28,
     "metadata": {},
     "output_type": "execute_result"
    }
   ],
   "source": [
    "sensitivity"
   ]
  },
  {
   "cell_type": "code",
   "execution_count": 29,
   "metadata": {},
   "outputs": [
    {
     "data": {
      "text/plain": [
       "0.7359335038363172"
      ]
     },
     "execution_count": 29,
     "metadata": {},
     "output_type": "execute_result"
    }
   ],
   "source": [
    "specificity"
   ]
  },
  {
   "cell_type": "code",
   "execution_count": 30,
   "metadata": {},
   "outputs": [
    {
     "data": {
      "text/plain": [
       "0.7412685982772123"
      ]
     },
     "execution_count": 30,
     "metadata": {},
     "output_type": "execute_result"
    }
   ],
   "source": [
    "precision"
   ]
  },
  {
   "cell_type": "code",
   "execution_count": null,
   "metadata": {},
   "outputs": [],
   "source": []
  }
 ],
 "metadata": {
  "kernelspec": {
   "display_name": "Python 3",
   "language": "python",
   "name": "python3"
  },
  "language_info": {
   "codemirror_mode": {
    "name": "ipython",
    "version": 3
   },
   "file_extension": ".py",
   "mimetype": "text/x-python",
   "name": "python",
   "nbconvert_exporter": "python",
   "pygments_lexer": "ipython3",
   "version": "3.6.6"
  }
 },
 "nbformat": 4,
 "nbformat_minor": 2
}
